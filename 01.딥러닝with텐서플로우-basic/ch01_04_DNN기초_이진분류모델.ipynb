{
  "nbformat": 4,
  "nbformat_minor": 0,
  "metadata": {
    "colab": {
      "name": "ch01_04_DNN기초-이진분류모델.ipynb",
      "provenance": [],
      "collapsed_sections": [],
      "include_colab_link": true
    },
    "kernelspec": {
      "name": "python3",
      "display_name": "Python 3"
    },
    "language_info": {
      "name": "python"
    },
    "accelerator": "GPU",
    "gpuClass": "standard"
  },
  "cells": [
    {
      "cell_type": "markdown",
      "metadata": {
        "id": "view-in-github",
        "colab_type": "text"
      },
      "source": [
        "<a href=\"https://colab.research.google.com/github/gangerz/SkillTreePython-DeepLearning/blob/main/01.%EB%94%A5%EB%9F%AC%EB%8B%9Dwith%ED%85%90%EC%84%9C%ED%94%8C%EB%A1%9C%EC%9A%B0-basic/ch01_04_DNN%EA%B8%B0%EC%B4%88_%EC%9D%B4%EC%A7%84%EB%B6%84%EB%A5%98%EB%AA%A8%EB%8D%B8.ipynb\" target=\"_parent\"><img src=\"https://colab.research.google.com/assets/colab-badge.svg\" alt=\"Open In Colab\"/></a>"
      ]
    },
    {
      "cell_type": "markdown",
      "source": [
        "# ch01.04 DNN기초 - 이진분류 모델\n",
        "\n",
        "\n",
        "---\n",
        "* 날짜: 2022-07-01\n",
        "* 이름: 윤예현\n",
        "\n",
        "## 학습내용\n",
        "    - 딥러닝을 이용한 이진분류 모델 구현\n",
        "    - 적절한 손실함수와 최적화 함수 정의\n",
        "    - 평가 및 예측\n",
        "\n",
        "## 학습자료\n",
        "\n",
        "* 모두의딥러닝 11장, 13장\n",
        "* 데이터\n",
        "  * `sornar.csv`\n",
        "  * `pima-indians-diabetes.csv`\n",
        "\n",
        "\n",
        "```\n",
        "import numpy as np\n",
        "import pandas as pd\n",
        "import tensorflow as tf\n",
        "import matplotlib.pyplot as plt\n",
        "import seaborn as sns\n",
        "seed=1\n",
        "np.random.seed(seed)\n",
        "tf.random.set_seed(seed)\n",
        "```\n",
        "\n",
        "```\n",
        "https://github.com/yebiny/SkillTreePython-DeepLearning.git\n",
        "```"
      ],
      "metadata": {
        "id": "sWs2kEC1_b-P"
      }
    },
    {
      "cell_type": "code",
      "source": [
        "import numpy as np\n",
        "import pandas as pd\n",
        "import tensorflow as tf\n",
        "import matplotlib.pyplot as plt\n",
        "import seaborn as sns\n",
        "seed=1\n",
        "np.random.seed(seed)\n",
        "tf.random.set_seed(seed)"
      ],
      "metadata": {
        "id": "3dvXKSSnDQ9V"
      },
      "execution_count": 3,
      "outputs": []
    },
    {
      "cell_type": "code",
      "source": [
        "! git clone https://github.com/yebiny/SkillTreePython-DeepLearning.git"
      ],
      "metadata": {
        "id": "VIgPnWNbUt_X",
        "outputId": "ffdc431a-176d-463f-cbc4-e44710cb02e1",
        "colab": {
          "base_uri": "https://localhost:8080/"
        }
      },
      "execution_count": 4,
      "outputs": [
        {
          "output_type": "stream",
          "name": "stdout",
          "text": [
            "fatal: destination path 'SkillTreePython-DeepLearning' already exists and is not an empty directory.\n"
          ]
        }
      ]
    },
    {
      "cell_type": "markdown",
      "source": [
        "## 소나 데이터 광물 예측\n",
        "---\n",
        "\n",
        "> 1988년 존스홉킨스 대학교의 세즈노프스키(Sejnowski) 교수는 광석과 일반 돌을 가져다 놓고 음파 탐지기를 쏜 후 그 결과를 데이터를 정리했습니다. 신경망이 광석과 돌을 얼마나 잘 구분하는지 알아보도록 합시다.\n",
        "\n",
        "```\n",
        "- 0~59 : 음파 탐지기를 이용해 얻은 값\n",
        "- 60: 광석 구분 {R, M}\n",
        "```\n",
        "<p align='center'>\n",
        "<img src=https://github.com/yebiny/SkillTreePython-DeepLearning/blob/main/imgs/ch0104-01.PNG?raw=true width=450>\n",
        "</p>\n",
        "\n",
        "\n"
      ],
      "metadata": {
        "id": "KOmt3w8_rVe2"
      }
    },
    {
      "cell_type": "markdown",
      "source": [
        "### | 데이터 준비"
      ],
      "metadata": {
        "id": "TmgkVAdIfngb"
      }
    },
    {
      "cell_type": "markdown",
      "source": [
        "#### **데이터 로드**\n",
        "* `sonar.csv`"
      ],
      "metadata": {
        "id": "cHXodXKif2BB"
      }
    },
    {
      "cell_type": "code",
      "execution_count": 7,
      "metadata": {
        "id": "2sh64rMrANLD",
        "outputId": "8bddfde7-334d-4a8e-d0d8-12bf3d53fc7e",
        "colab": {
          "base_uri": "https://localhost:8080/",
          "height": 505
        }
      },
      "outputs": [
        {
          "output_type": "stream",
          "name": "stdout",
          "text": [
            "(208, 61)\n"
          ]
        },
        {
          "output_type": "execute_result",
          "data": {
            "text/plain": [
              "         0       1       2       3       4       5       6       7       8   \\\n",
              "0    0.0200  0.0371  0.0428  0.0207  0.0954  0.0986  0.1539  0.1601  0.3109   \n",
              "1    0.0453  0.0523  0.0843  0.0689  0.1183  0.2583  0.2156  0.3481  0.3337   \n",
              "2    0.0262  0.0582  0.1099  0.1083  0.0974  0.2280  0.2431  0.3771  0.5598   \n",
              "3    0.0100  0.0171  0.0623  0.0205  0.0205  0.0368  0.1098  0.1276  0.0598   \n",
              "4    0.0762  0.0666  0.0481  0.0394  0.0590  0.0649  0.1209  0.2467  0.3564   \n",
              "..      ...     ...     ...     ...     ...     ...     ...     ...     ...   \n",
              "203  0.0187  0.0346  0.0168  0.0177  0.0393  0.1630  0.2028  0.1694  0.2328   \n",
              "204  0.0323  0.0101  0.0298  0.0564  0.0760  0.0958  0.0990  0.1018  0.1030   \n",
              "205  0.0522  0.0437  0.0180  0.0292  0.0351  0.1171  0.1257  0.1178  0.1258   \n",
              "206  0.0303  0.0353  0.0490  0.0608  0.0167  0.1354  0.1465  0.1123  0.1945   \n",
              "207  0.0260  0.0363  0.0136  0.0272  0.0214  0.0338  0.0655  0.1400  0.1843   \n",
              "\n",
              "         9   ...      51      52      53      54      55      56      57  \\\n",
              "0    0.2111  ...  0.0027  0.0065  0.0159  0.0072  0.0167  0.0180  0.0084   \n",
              "1    0.2872  ...  0.0084  0.0089  0.0048  0.0094  0.0191  0.0140  0.0049   \n",
              "2    0.6194  ...  0.0232  0.0166  0.0095  0.0180  0.0244  0.0316  0.0164   \n",
              "3    0.1264  ...  0.0121  0.0036  0.0150  0.0085  0.0073  0.0050  0.0044   \n",
              "4    0.4459  ...  0.0031  0.0054  0.0105  0.0110  0.0015  0.0072  0.0048   \n",
              "..      ...  ...     ...     ...     ...     ...     ...     ...     ...   \n",
              "203  0.2684  ...  0.0116  0.0098  0.0199  0.0033  0.0101  0.0065  0.0115   \n",
              "204  0.2154  ...  0.0061  0.0093  0.0135  0.0063  0.0063  0.0034  0.0032   \n",
              "205  0.2529  ...  0.0160  0.0029  0.0051  0.0062  0.0089  0.0140  0.0138   \n",
              "206  0.2354  ...  0.0086  0.0046  0.0126  0.0036  0.0035  0.0034  0.0079   \n",
              "207  0.2354  ...  0.0146  0.0129  0.0047  0.0039  0.0061  0.0040  0.0036   \n",
              "\n",
              "         58      59  60  \n",
              "0    0.0090  0.0032   R  \n",
              "1    0.0052  0.0044   R  \n",
              "2    0.0095  0.0078   R  \n",
              "3    0.0040  0.0117   R  \n",
              "4    0.0107  0.0094   R  \n",
              "..      ...     ...  ..  \n",
              "203  0.0193  0.0157   M  \n",
              "204  0.0062  0.0067   M  \n",
              "205  0.0077  0.0031   M  \n",
              "206  0.0036  0.0048   M  \n",
              "207  0.0061  0.0115   M  \n",
              "\n",
              "[208 rows x 61 columns]"
            ],
            "text/html": [
              "\n",
              "  <div id=\"df-fc83e6ba-dae2-4d07-acec-5fab7dc8c147\">\n",
              "    <div class=\"colab-df-container\">\n",
              "      <div>\n",
              "<style scoped>\n",
              "    .dataframe tbody tr th:only-of-type {\n",
              "        vertical-align: middle;\n",
              "    }\n",
              "\n",
              "    .dataframe tbody tr th {\n",
              "        vertical-align: top;\n",
              "    }\n",
              "\n",
              "    .dataframe thead th {\n",
              "        text-align: right;\n",
              "    }\n",
              "</style>\n",
              "<table border=\"1\" class=\"dataframe\">\n",
              "  <thead>\n",
              "    <tr style=\"text-align: right;\">\n",
              "      <th></th>\n",
              "      <th>0</th>\n",
              "      <th>1</th>\n",
              "      <th>2</th>\n",
              "      <th>3</th>\n",
              "      <th>4</th>\n",
              "      <th>5</th>\n",
              "      <th>6</th>\n",
              "      <th>7</th>\n",
              "      <th>8</th>\n",
              "      <th>9</th>\n",
              "      <th>...</th>\n",
              "      <th>51</th>\n",
              "      <th>52</th>\n",
              "      <th>53</th>\n",
              "      <th>54</th>\n",
              "      <th>55</th>\n",
              "      <th>56</th>\n",
              "      <th>57</th>\n",
              "      <th>58</th>\n",
              "      <th>59</th>\n",
              "      <th>60</th>\n",
              "    </tr>\n",
              "  </thead>\n",
              "  <tbody>\n",
              "    <tr>\n",
              "      <th>0</th>\n",
              "      <td>0.0200</td>\n",
              "      <td>0.0371</td>\n",
              "      <td>0.0428</td>\n",
              "      <td>0.0207</td>\n",
              "      <td>0.0954</td>\n",
              "      <td>0.0986</td>\n",
              "      <td>0.1539</td>\n",
              "      <td>0.1601</td>\n",
              "      <td>0.3109</td>\n",
              "      <td>0.2111</td>\n",
              "      <td>...</td>\n",
              "      <td>0.0027</td>\n",
              "      <td>0.0065</td>\n",
              "      <td>0.0159</td>\n",
              "      <td>0.0072</td>\n",
              "      <td>0.0167</td>\n",
              "      <td>0.0180</td>\n",
              "      <td>0.0084</td>\n",
              "      <td>0.0090</td>\n",
              "      <td>0.0032</td>\n",
              "      <td>R</td>\n",
              "    </tr>\n",
              "    <tr>\n",
              "      <th>1</th>\n",
              "      <td>0.0453</td>\n",
              "      <td>0.0523</td>\n",
              "      <td>0.0843</td>\n",
              "      <td>0.0689</td>\n",
              "      <td>0.1183</td>\n",
              "      <td>0.2583</td>\n",
              "      <td>0.2156</td>\n",
              "      <td>0.3481</td>\n",
              "      <td>0.3337</td>\n",
              "      <td>0.2872</td>\n",
              "      <td>...</td>\n",
              "      <td>0.0084</td>\n",
              "      <td>0.0089</td>\n",
              "      <td>0.0048</td>\n",
              "      <td>0.0094</td>\n",
              "      <td>0.0191</td>\n",
              "      <td>0.0140</td>\n",
              "      <td>0.0049</td>\n",
              "      <td>0.0052</td>\n",
              "      <td>0.0044</td>\n",
              "      <td>R</td>\n",
              "    </tr>\n",
              "    <tr>\n",
              "      <th>2</th>\n",
              "      <td>0.0262</td>\n",
              "      <td>0.0582</td>\n",
              "      <td>0.1099</td>\n",
              "      <td>0.1083</td>\n",
              "      <td>0.0974</td>\n",
              "      <td>0.2280</td>\n",
              "      <td>0.2431</td>\n",
              "      <td>0.3771</td>\n",
              "      <td>0.5598</td>\n",
              "      <td>0.6194</td>\n",
              "      <td>...</td>\n",
              "      <td>0.0232</td>\n",
              "      <td>0.0166</td>\n",
              "      <td>0.0095</td>\n",
              "      <td>0.0180</td>\n",
              "      <td>0.0244</td>\n",
              "      <td>0.0316</td>\n",
              "      <td>0.0164</td>\n",
              "      <td>0.0095</td>\n",
              "      <td>0.0078</td>\n",
              "      <td>R</td>\n",
              "    </tr>\n",
              "    <tr>\n",
              "      <th>3</th>\n",
              "      <td>0.0100</td>\n",
              "      <td>0.0171</td>\n",
              "      <td>0.0623</td>\n",
              "      <td>0.0205</td>\n",
              "      <td>0.0205</td>\n",
              "      <td>0.0368</td>\n",
              "      <td>0.1098</td>\n",
              "      <td>0.1276</td>\n",
              "      <td>0.0598</td>\n",
              "      <td>0.1264</td>\n",
              "      <td>...</td>\n",
              "      <td>0.0121</td>\n",
              "      <td>0.0036</td>\n",
              "      <td>0.0150</td>\n",
              "      <td>0.0085</td>\n",
              "      <td>0.0073</td>\n",
              "      <td>0.0050</td>\n",
              "      <td>0.0044</td>\n",
              "      <td>0.0040</td>\n",
              "      <td>0.0117</td>\n",
              "      <td>R</td>\n",
              "    </tr>\n",
              "    <tr>\n",
              "      <th>4</th>\n",
              "      <td>0.0762</td>\n",
              "      <td>0.0666</td>\n",
              "      <td>0.0481</td>\n",
              "      <td>0.0394</td>\n",
              "      <td>0.0590</td>\n",
              "      <td>0.0649</td>\n",
              "      <td>0.1209</td>\n",
              "      <td>0.2467</td>\n",
              "      <td>0.3564</td>\n",
              "      <td>0.4459</td>\n",
              "      <td>...</td>\n",
              "      <td>0.0031</td>\n",
              "      <td>0.0054</td>\n",
              "      <td>0.0105</td>\n",
              "      <td>0.0110</td>\n",
              "      <td>0.0015</td>\n",
              "      <td>0.0072</td>\n",
              "      <td>0.0048</td>\n",
              "      <td>0.0107</td>\n",
              "      <td>0.0094</td>\n",
              "      <td>R</td>\n",
              "    </tr>\n",
              "    <tr>\n",
              "      <th>...</th>\n",
              "      <td>...</td>\n",
              "      <td>...</td>\n",
              "      <td>...</td>\n",
              "      <td>...</td>\n",
              "      <td>...</td>\n",
              "      <td>...</td>\n",
              "      <td>...</td>\n",
              "      <td>...</td>\n",
              "      <td>...</td>\n",
              "      <td>...</td>\n",
              "      <td>...</td>\n",
              "      <td>...</td>\n",
              "      <td>...</td>\n",
              "      <td>...</td>\n",
              "      <td>...</td>\n",
              "      <td>...</td>\n",
              "      <td>...</td>\n",
              "      <td>...</td>\n",
              "      <td>...</td>\n",
              "      <td>...</td>\n",
              "      <td>...</td>\n",
              "    </tr>\n",
              "    <tr>\n",
              "      <th>203</th>\n",
              "      <td>0.0187</td>\n",
              "      <td>0.0346</td>\n",
              "      <td>0.0168</td>\n",
              "      <td>0.0177</td>\n",
              "      <td>0.0393</td>\n",
              "      <td>0.1630</td>\n",
              "      <td>0.2028</td>\n",
              "      <td>0.1694</td>\n",
              "      <td>0.2328</td>\n",
              "      <td>0.2684</td>\n",
              "      <td>...</td>\n",
              "      <td>0.0116</td>\n",
              "      <td>0.0098</td>\n",
              "      <td>0.0199</td>\n",
              "      <td>0.0033</td>\n",
              "      <td>0.0101</td>\n",
              "      <td>0.0065</td>\n",
              "      <td>0.0115</td>\n",
              "      <td>0.0193</td>\n",
              "      <td>0.0157</td>\n",
              "      <td>M</td>\n",
              "    </tr>\n",
              "    <tr>\n",
              "      <th>204</th>\n",
              "      <td>0.0323</td>\n",
              "      <td>0.0101</td>\n",
              "      <td>0.0298</td>\n",
              "      <td>0.0564</td>\n",
              "      <td>0.0760</td>\n",
              "      <td>0.0958</td>\n",
              "      <td>0.0990</td>\n",
              "      <td>0.1018</td>\n",
              "      <td>0.1030</td>\n",
              "      <td>0.2154</td>\n",
              "      <td>...</td>\n",
              "      <td>0.0061</td>\n",
              "      <td>0.0093</td>\n",
              "      <td>0.0135</td>\n",
              "      <td>0.0063</td>\n",
              "      <td>0.0063</td>\n",
              "      <td>0.0034</td>\n",
              "      <td>0.0032</td>\n",
              "      <td>0.0062</td>\n",
              "      <td>0.0067</td>\n",
              "      <td>M</td>\n",
              "    </tr>\n",
              "    <tr>\n",
              "      <th>205</th>\n",
              "      <td>0.0522</td>\n",
              "      <td>0.0437</td>\n",
              "      <td>0.0180</td>\n",
              "      <td>0.0292</td>\n",
              "      <td>0.0351</td>\n",
              "      <td>0.1171</td>\n",
              "      <td>0.1257</td>\n",
              "      <td>0.1178</td>\n",
              "      <td>0.1258</td>\n",
              "      <td>0.2529</td>\n",
              "      <td>...</td>\n",
              "      <td>0.0160</td>\n",
              "      <td>0.0029</td>\n",
              "      <td>0.0051</td>\n",
              "      <td>0.0062</td>\n",
              "      <td>0.0089</td>\n",
              "      <td>0.0140</td>\n",
              "      <td>0.0138</td>\n",
              "      <td>0.0077</td>\n",
              "      <td>0.0031</td>\n",
              "      <td>M</td>\n",
              "    </tr>\n",
              "    <tr>\n",
              "      <th>206</th>\n",
              "      <td>0.0303</td>\n",
              "      <td>0.0353</td>\n",
              "      <td>0.0490</td>\n",
              "      <td>0.0608</td>\n",
              "      <td>0.0167</td>\n",
              "      <td>0.1354</td>\n",
              "      <td>0.1465</td>\n",
              "      <td>0.1123</td>\n",
              "      <td>0.1945</td>\n",
              "      <td>0.2354</td>\n",
              "      <td>...</td>\n",
              "      <td>0.0086</td>\n",
              "      <td>0.0046</td>\n",
              "      <td>0.0126</td>\n",
              "      <td>0.0036</td>\n",
              "      <td>0.0035</td>\n",
              "      <td>0.0034</td>\n",
              "      <td>0.0079</td>\n",
              "      <td>0.0036</td>\n",
              "      <td>0.0048</td>\n",
              "      <td>M</td>\n",
              "    </tr>\n",
              "    <tr>\n",
              "      <th>207</th>\n",
              "      <td>0.0260</td>\n",
              "      <td>0.0363</td>\n",
              "      <td>0.0136</td>\n",
              "      <td>0.0272</td>\n",
              "      <td>0.0214</td>\n",
              "      <td>0.0338</td>\n",
              "      <td>0.0655</td>\n",
              "      <td>0.1400</td>\n",
              "      <td>0.1843</td>\n",
              "      <td>0.2354</td>\n",
              "      <td>...</td>\n",
              "      <td>0.0146</td>\n",
              "      <td>0.0129</td>\n",
              "      <td>0.0047</td>\n",
              "      <td>0.0039</td>\n",
              "      <td>0.0061</td>\n",
              "      <td>0.0040</td>\n",
              "      <td>0.0036</td>\n",
              "      <td>0.0061</td>\n",
              "      <td>0.0115</td>\n",
              "      <td>M</td>\n",
              "    </tr>\n",
              "  </tbody>\n",
              "</table>\n",
              "<p>208 rows × 61 columns</p>\n",
              "</div>\n",
              "      <button class=\"colab-df-convert\" onclick=\"convertToInteractive('df-fc83e6ba-dae2-4d07-acec-5fab7dc8c147')\"\n",
              "              title=\"Convert this dataframe to an interactive table.\"\n",
              "              style=\"display:none;\">\n",
              "        \n",
              "  <svg xmlns=\"http://www.w3.org/2000/svg\" height=\"24px\"viewBox=\"0 0 24 24\"\n",
              "       width=\"24px\">\n",
              "    <path d=\"M0 0h24v24H0V0z\" fill=\"none\"/>\n",
              "    <path d=\"M18.56 5.44l.94 2.06.94-2.06 2.06-.94-2.06-.94-.94-2.06-.94 2.06-2.06.94zm-11 1L8.5 8.5l.94-2.06 2.06-.94-2.06-.94L8.5 2.5l-.94 2.06-2.06.94zm10 10l.94 2.06.94-2.06 2.06-.94-2.06-.94-.94-2.06-.94 2.06-2.06.94z\"/><path d=\"M17.41 7.96l-1.37-1.37c-.4-.4-.92-.59-1.43-.59-.52 0-1.04.2-1.43.59L10.3 9.45l-7.72 7.72c-.78.78-.78 2.05 0 2.83L4 21.41c.39.39.9.59 1.41.59.51 0 1.02-.2 1.41-.59l7.78-7.78 2.81-2.81c.8-.78.8-2.07 0-2.86zM5.41 20L4 18.59l7.72-7.72 1.47 1.35L5.41 20z\"/>\n",
              "  </svg>\n",
              "      </button>\n",
              "      \n",
              "  <style>\n",
              "    .colab-df-container {\n",
              "      display:flex;\n",
              "      flex-wrap:wrap;\n",
              "      gap: 12px;\n",
              "    }\n",
              "\n",
              "    .colab-df-convert {\n",
              "      background-color: #E8F0FE;\n",
              "      border: none;\n",
              "      border-radius: 50%;\n",
              "      cursor: pointer;\n",
              "      display: none;\n",
              "      fill: #1967D2;\n",
              "      height: 32px;\n",
              "      padding: 0 0 0 0;\n",
              "      width: 32px;\n",
              "    }\n",
              "\n",
              "    .colab-df-convert:hover {\n",
              "      background-color: #E2EBFA;\n",
              "      box-shadow: 0px 1px 2px rgba(60, 64, 67, 0.3), 0px 1px 3px 1px rgba(60, 64, 67, 0.15);\n",
              "      fill: #174EA6;\n",
              "    }\n",
              "\n",
              "    [theme=dark] .colab-df-convert {\n",
              "      background-color: #3B4455;\n",
              "      fill: #D2E3FC;\n",
              "    }\n",
              "\n",
              "    [theme=dark] .colab-df-convert:hover {\n",
              "      background-color: #434B5C;\n",
              "      box-shadow: 0px 1px 3px 1px rgba(0, 0, 0, 0.15);\n",
              "      filter: drop-shadow(0px 1px 2px rgba(0, 0, 0, 0.3));\n",
              "      fill: #FFFFFF;\n",
              "    }\n",
              "  </style>\n",
              "\n",
              "      <script>\n",
              "        const buttonEl =\n",
              "          document.querySelector('#df-fc83e6ba-dae2-4d07-acec-5fab7dc8c147 button.colab-df-convert');\n",
              "        buttonEl.style.display =\n",
              "          google.colab.kernel.accessAllowed ? 'block' : 'none';\n",
              "\n",
              "        async function convertToInteractive(key) {\n",
              "          const element = document.querySelector('#df-fc83e6ba-dae2-4d07-acec-5fab7dc8c147');\n",
              "          const dataTable =\n",
              "            await google.colab.kernel.invokeFunction('convertToInteractive',\n",
              "                                                     [key], {});\n",
              "          if (!dataTable) return;\n",
              "\n",
              "          const docLinkHtml = 'Like what you see? Visit the ' +\n",
              "            '<a target=\"_blank\" href=https://colab.research.google.com/notebooks/data_table.ipynb>data table notebook</a>'\n",
              "            + ' to learn more about interactive tables.';\n",
              "          element.innerHTML = '';\n",
              "          dataTable['output_type'] = 'display_data';\n",
              "          await google.colab.output.renderOutput(dataTable, element);\n",
              "          const docLink = document.createElement('div');\n",
              "          docLink.innerHTML = docLinkHtml;\n",
              "          element.appendChild(docLink);\n",
              "        }\n",
              "      </script>\n",
              "    </div>\n",
              "  </div>\n",
              "  "
            ]
          },
          "metadata": {},
          "execution_count": 7
        }
      ],
      "source": [
        "path = '/content/SkillTreePython-DeepLearning/dataset/sonar.csv'\n",
        "dataset = pd.read_csv(path, header = None)\n",
        "print(dataset.shape)\n",
        "dataset"
      ]
    },
    {
      "cell_type": "markdown",
      "source": [
        "#### **데이터 전처리**"
      ],
      "metadata": {
        "id": "0NL7LyHXrhoW"
      }
    },
    {
      "cell_type": "code",
      "source": [
        "from sklearn.preprocessing import StandardScaler, LabelEncoder #머신러닝 라이브러리\n",
        "from sklearn.model_selection import train_test_split\n",
        "\n",
        "def path2dataset_sonar(path):\n",
        "\n",
        "  # <불러오기>\n",
        "  dataset =  pd.read_csv(path, \n",
        "                       header=None, \n",
        "                       ) # 데이터 형식 : pandas의 데이터프레임\n",
        "  dataset = dataset.values #데이터 형식 : 넘파이 배열로 변환\n",
        "  # <x-y 분할> -> 넘파이 배열을 슬라이싱하는 기법\n",
        "  x = dataset[:, 0:-1]  # ( : 모든행,첫번째 부터 마지막 전까지) * a:b -> a~b까지\n",
        "  y = dataset[:, -1]    # 마지막꺼\n",
        "  #print(x.shape, y.shape)\n",
        "\n",
        "\n",
        "  # <정규화(속셩별로 데이터의 스케일을 조정)> # -x 데이터에만 해준다.\n",
        "  scaler = StandardScaler()\n",
        "  x = scaler.fit_transform(x)\n",
        "  #print(dataset.shape, dataset.dtype) # 데이터 형식 : 넘파이 배열\n",
        "  \n",
        "  # <라벨링>y{R,M} -> {0,1}\n",
        "  labeling = LabelEncoder()\n",
        "  y = labeling.fit_transform(y)\n",
        "  print(labeling.classes_)\n",
        "  \n",
        "\n",
        "  # <**train-test 분할**>\n",
        "  x_train, x_test, y_train, y_test = train_test_split(x,y,test_size=0.3)\n",
        "  return x_train, x_test, y_train, y_test\n",
        "  \n",
        "\n",
        "path = '/content/SkillTreePython-DeepLearning/dataset/sonar.csv'\n",
        "x_train, x_test, y_train, y_test = path2dataset_sonar(path)\n",
        "print(x_train.shape, x_test.shape, y_train.shape, y_test.shape)\n",
        "print(f'첫번째 샘플 x:{x_train[0]}')\n",
        "print(f'첫번째 샘플 y:{y_train[0]}')"
      ],
      "metadata": {
        "id": "CoWLi5NgraBV",
        "outputId": "d8296683-4511-484d-f02a-b1521f036ff0",
        "colab": {
          "base_uri": "https://localhost:8080/"
        }
      },
      "execution_count": 11,
      "outputs": [
        {
          "output_type": "stream",
          "name": "stdout",
          "text": [
            "['M' 'R']\n",
            "(145, 60) (63, 60) (145,) (63,)\n",
            "첫번째 샘플 x:[-1.0273968  -0.35694414 -0.56689336  0.04756319  0.33197591  0.17010288\n",
            " -0.82977471 -0.41436351 -0.09062387 -0.16674446  0.09130188  0.15013322\n",
            "  0.14289792 -0.20032031 -0.64509782 -1.02540598 -0.8104515  -0.73215157\n",
            " -0.88205229 -0.87186496 -0.87893535 -0.87741369 -0.54322719  0.05594715\n",
            "  0.30112694  0.35677682  0.81588394  1.2931211   1.02943366  0.31864826\n",
            "  0.48634897  0.03412697 -0.59422464 -0.99847476 -0.94299069 -1.1566019\n",
            " -0.78052411 -0.94820916 -0.43001748 -0.59813617 -0.54043534 -0.00293051\n",
            " -0.78496122 -1.09479459 -0.86492896  0.04392265  0.67148716  0.53120002\n",
            " -0.00916838 -1.17546161  0.20294926 -0.64720859 -0.73958244 -0.48616666\n",
            " -0.35221828  0.0311702  -0.71387706 -0.85974694 -0.73645375 -1.15706054]\n",
            "첫번째 샘플 y:0\n"
          ]
        }
      ]
    },
    {
      "cell_type": "markdown",
      "source": [
        "* 예측값 분포 확인"
      ],
      "metadata": {
        "id": "J49Ys-SNBKyS"
      }
    },
    {
      "cell_type": "code",
      "source": [
        "sns.countplot(x=dataset[60])"
      ],
      "metadata": {
        "id": "3vlsRwuoBMcY",
        "outputId": "1aae4aeb-1870-4c5a-fadd-98e065783113",
        "colab": {
          "base_uri": "https://localhost:8080/",
          "height": 296
        }
      },
      "execution_count": 8,
      "outputs": [
        {
          "output_type": "execute_result",
          "data": {
            "text/plain": [
              "<matplotlib.axes._subplots.AxesSubplot at 0x7f5c93a42150>"
            ]
          },
          "metadata": {},
          "execution_count": 8
        },
        {
          "output_type": "display_data",
          "data": {
            "text/plain": [
              "<Figure size 432x288 with 1 Axes>"
            ],
            "image/png": "[encoded data removed]"
          },
          "metadata": {
            "needs_background": "light"
          }
        }
      ]
    },
    {
      "cell_type": "markdown",
      "source": [
        "### | 모델\n",
        "\n",
        "\n",
        "<p align='center'>\n",
        "<img src=https://github.com/yebiny/SkillTreePython-DeepLearning/blob/main/imgs/ch0104-02.PNG?raw=true width=500>\n",
        "</p>\n"
      ],
      "metadata": {
        "id": "DHshtWB9r0be"
      }
    },
    {
      "cell_type": "markdown",
      "source": [
        "#### **모델 생성**"
      ],
      "metadata": {
        "id": "J94jFpWyr2k9"
      }
    },
    {
      "cell_type": "code",
      "source": [
        "from tensorflow.keras import models, layers, utils\n",
        "def build_model():\n",
        "   x = layers.Input(shape = (60))\n",
        "   y = layers.Dense(30,activation = 'relu')(x) \n",
        "   y = layers.Dense(1, activation = 'sigmoid')(y) #이진분류 문제의 경우, 마지막 레이어에서 sigmoid 사용\n",
        "   model = models.Model(x, y)\n",
        "   return model"
      ],
      "metadata": {
        "id": "5BZG1z90rsGc"
      },
      "execution_count": 26,
      "outputs": []
    },
    {
      "cell_type": "markdown",
      "source": [
        "#### **모델 시각화**\n",
        "\n",
        "* `model.summary()`\n",
        "* `utils.plot_model()`"
      ],
      "metadata": {
        "id": "1yqXLbEyx5QK"
      }
    },
    {
      "cell_type": "code",
      "source": [
        "model = build_model()\n",
        "model.summary()"
      ],
      "metadata": {
        "id": "dKCT38Fsr6dF",
        "outputId": "e2020552-3b54-49db-c310-bec1d7a1a486",
        "colab": {
          "base_uri": "https://localhost:8080/"
        }
      },
      "execution_count": 27,
      "outputs": [
        {
          "output_type": "stream",
          "name": "stdout",
          "text": [
            "Model: \"model_1\"\n",
            "_________________________________________________________________\n",
            " Layer (type)                Output Shape              Param #   \n",
            "=================================================================\n",
            " input_2 (InputLayer)        [(None, 60)]              0         \n",
            "                                                                 \n",
            " dense_2 (Dense)             (None, 30)                1830      \n",
            "                                                                 \n",
            " dense_3 (Dense)             (None, 1)                 31        \n",
            "                                                                 \n",
            "=================================================================\n",
            "Total params: 1,861\n",
            "Trainable params: 1,861\n",
            "Non-trainable params: 0\n",
            "_________________________________________________________________\n"
          ]
        }
      ]
    },
    {
      "cell_type": "markdown",
      "source": [
        "### | 학습"
      ],
      "metadata": {
        "id": "gLuvsUFmwzPa"
      }
    },
    {
      "cell_type": "markdown",
      "source": [
        "#### **모델 컴파일**\n",
        "\n",
        "```\n",
        "model.compile(loss, optimizer, metrics) \n",
        "```\n",
        "* `loss` : 이진분류에서는 'binary_crossentropy'\n",
        "* `optimizer` : 'adam' (no problem)\n",
        "* `metrics`\n",
        "  * 추가적인 옵션\n",
        "  * 딥러닝 알고리즘에 필수 요소는 아닌다.\n",
        "  * 사용자 편의 (정확도)\n"
      ],
      "metadata": {
        "id": "fwQboNHp3EHe"
      }
    },
    {
      "cell_type": "code",
      "source": [
        "model.compile(loss='binary_crossentropy',\n",
        "             optimizer = 'adam',\n",
        "             metrics = ['accuracy'])"
      ],
      "metadata": {
        "id": "SASPIskxgfRY"
      },
      "execution_count": 28,
      "outputs": []
    },
    {
      "cell_type": "markdown",
      "source": [
        "#### **학습**\n",
        "\n",
        "```\n",
        "model.fit(x_train, y_train, epochs, batch_size)\n",
        "```\n",
        "* `x_train` : 넘파이 혹은 텐서 형식의 인풋 데이터\n",
        "* `y_train` : 넘파이 혹은 텐서 형식의 아웃풋 데이터\n",
        "* `epochs` : 학습 횟수\n",
        "* `batch_size` : 배치 사이즈 (업데이트 한번에 사용될 샘플 개수)"
      ],
      "metadata": {
        "id": "JukUpWB4gfRY"
      }
    },
    {
      "cell_type": "code",
      "source": [
        "model.fit(x_train, y_train, epochs =30, batch_size = 10)"
      ],
      "metadata": {
        "id": "9bgbpUhogfRY",
        "outputId": "3b966544-dc0b-4233-f711-49401da220be",
        "colab": {
          "base_uri": "https://localhost:8080/"
        }
      },
      "execution_count": 29,
      "outputs": [
        {
          "output_type": "stream",
          "name": "stdout",
          "text": [
            "Epoch 1/30\n",
            "15/15 [==============================] - 0s 3ms/step - loss: 0.7699 - accuracy: 0.4759\n",
            "Epoch 2/30\n",
            "15/15 [==============================] - 0s 3ms/step - loss: 0.6615 - accuracy: 0.6207\n",
            "Epoch 3/30\n",
            "15/15 [==============================] - 0s 3ms/step - loss: 0.5929 - accuracy: 0.6690\n",
            "Epoch 4/30\n",
            "15/15 [==============================] - 0s 3ms/step - loss: 0.5443 - accuracy: 0.7241\n",
            "Epoch 5/30\n",
            "15/15 [==============================] - 0s 3ms/step - loss: 0.5061 - accuracy: 0.7793\n",
            "Epoch 6/30\n",
            "15/15 [==============================] - 0s 3ms/step - loss: 0.4733 - accuracy: 0.8138\n",
            "Epoch 7/30\n",
            "15/15 [==============================] - 0s 3ms/step - loss: 0.4453 - accuracy: 0.8276\n",
            "Epoch 8/30\n",
            "15/15 [==============================] - 0s 3ms/step - loss: 0.4173 - accuracy: 0.8552\n",
            "Epoch 9/30\n",
            "15/15 [==============================] - 0s 3ms/step - loss: 0.3947 - accuracy: 0.8828\n",
            "Epoch 10/30\n",
            "15/15 [==============================] - 0s 3ms/step - loss: 0.3712 - accuracy: 0.9034\n",
            "Epoch 11/30\n",
            "15/15 [==============================] - 0s 3ms/step - loss: 0.3490 - accuracy: 0.9172\n",
            "Epoch 12/30\n",
            "15/15 [==============================] - 0s 3ms/step - loss: 0.3287 - accuracy: 0.9310\n",
            "Epoch 13/30\n",
            "15/15 [==============================] - 0s 3ms/step - loss: 0.3094 - accuracy: 0.9379\n",
            "Epoch 14/30\n",
            "15/15 [==============================] - 0s 2ms/step - loss: 0.2925 - accuracy: 0.9310\n",
            "Epoch 15/30\n",
            "15/15 [==============================] - 0s 3ms/step - loss: 0.2761 - accuracy: 0.9448\n",
            "Epoch 16/30\n",
            "15/15 [==============================] - 0s 3ms/step - loss: 0.2602 - accuracy: 0.9517\n",
            "Epoch 17/30\n",
            "15/15 [==============================] - 0s 3ms/step - loss: 0.2453 - accuracy: 0.9517\n",
            "Epoch 18/30\n",
            "15/15 [==============================] - 0s 3ms/step - loss: 0.2318 - accuracy: 0.9517\n",
            "Epoch 19/30\n",
            "15/15 [==============================] - 0s 3ms/step - loss: 0.2204 - accuracy: 0.9655\n",
            "Epoch 20/30\n",
            "15/15 [==============================] - 0s 3ms/step - loss: 0.2082 - accuracy: 0.9655\n",
            "Epoch 21/30\n",
            "15/15 [==============================] - 0s 3ms/step - loss: 0.1957 - accuracy: 0.9655\n",
            "Epoch 22/30\n",
            "15/15 [==============================] - 0s 3ms/step - loss: 0.1853 - accuracy: 0.9724\n",
            "Epoch 23/30\n",
            "15/15 [==============================] - 0s 3ms/step - loss: 0.1754 - accuracy: 0.9724\n",
            "Epoch 24/30\n",
            "15/15 [==============================] - 0s 3ms/step - loss: 0.1657 - accuracy: 0.9724\n",
            "Epoch 25/30\n",
            "15/15 [==============================] - 0s 3ms/step - loss: 0.1564 - accuracy: 0.9862\n",
            "Epoch 26/30\n",
            "15/15 [==============================] - 0s 3ms/step - loss: 0.1496 - accuracy: 0.9862\n",
            "Epoch 27/30\n",
            "15/15 [==============================] - 0s 3ms/step - loss: 0.1410 - accuracy: 0.9862\n",
            "Epoch 28/30\n",
            "15/15 [==============================] - 0s 3ms/step - loss: 0.1336 - accuracy: 0.9862\n",
            "Epoch 29/30\n",
            "15/15 [==============================] - 0s 3ms/step - loss: 0.1276 - accuracy: 0.9862\n",
            "Epoch 30/30\n",
            "15/15 [==============================] - 0s 3ms/step - loss: 0.1204 - accuracy: 0.9931\n"
          ]
        },
        {
          "output_type": "execute_result",
          "data": {
            "text/plain": [
              "<keras.callbacks.History at 0x7f5c802b6590>"
            ]
          },
          "metadata": {},
          "execution_count": 29
        }
      ]
    },
    {
      "cell_type": "markdown",
      "source": [
        "### | 검증 및 예측\n"
      ],
      "metadata": {
        "id": "DyFOnqyNw5_q"
      }
    },
    {
      "cell_type": "markdown",
      "source": [
        "#### **검증**\n",
        "\n",
        "```\n",
        "model.evaluate(x_test, y_test)\n",
        "```\n",
        "* `x_test` : 넘파이 혹은 텐서 형식의 인풋 테스트 데이터\n",
        "* `y_test` : 넘파이 혹은 텐서 형식의 아웃풋 테스트 데이터"
      ],
      "metadata": {
        "id": "qlalKZ-a04c3"
      }
    },
    {
      "cell_type": "code",
      "source": [
        "model.evaluate(x_test,y_test) #r과적합"
      ],
      "metadata": {
        "id": "uHGyMlf60zng",
        "outputId": "0c6c91a2-80ec-4ee3-bf5d-48d140f37b46",
        "colab": {
          "base_uri": "https://localhost:8080/"
        }
      },
      "execution_count": 30,
      "outputs": [
        {
          "output_type": "stream",
          "name": "stdout",
          "text": [
            "2/2 [==============================] - 0s 6ms/step - loss: 0.3707 - accuracy: 0.7937\n"
          ]
        },
        {
          "output_type": "execute_result",
          "data": {
            "text/plain": [
              "[0.3706716001033783, 0.7936508059501648]"
            ]
          },
          "metadata": {},
          "execution_count": 30
        }
      ]
    },
    {
      "cell_type": "markdown",
      "source": [
        "#### **예측**\n",
        "\n",
        "```\n",
        "model.predict(x_test)\n",
        "```\n",
        "* `x_test` : 넘파이 혹은 텐서 형식의 인풋 테스트 데이터\n",
        "* `y_test` : 넘파이 혹은 텐서 형식의 아웃풋 테스트 데이터"
      ],
      "metadata": {
        "id": "BITPUIOj07Uv"
      }
    },
    {
      "cell_type": "code",
      "source": [
        "y_pred = model.predict(x_test)\n",
        "y_pred = y_pred.flatten()\n",
        "y_pred = np.round(y_pred) \n",
        "for i in range(50):\n",
        "  print('y true:', y_test[i], 'y pred:', y_pred[i])\n",
        "y_test.shape, y_pred.shape"
      ],
      "metadata": {
        "id": "KfDHL4PRv8YD",
        "outputId": "32470a4c-febc-42ef-c28c-064f08d7a144",
        "colab": {
          "base_uri": "https://localhost:8080/"
        }
      },
      "execution_count": 35,
      "outputs": [
        {
          "output_type": "stream",
          "name": "stdout",
          "text": [
            "y true: 0 y pred: 0.0\n",
            "y true: 1 y pred: 1.0\n",
            "y true: 0 y pred: 0.0\n",
            "y true: 1 y pred: 0.0\n",
            "y true: 0 y pred: 0.0\n",
            "y true: 1 y pred: 1.0\n",
            "y true: 1 y pred: 1.0\n",
            "y true: 1 y pred: 1.0\n",
            "y true: 1 y pred: 1.0\n",
            "y true: 1 y pred: 0.0\n",
            "y true: 0 y pred: 0.0\n",
            "y true: 1 y pred: 0.0\n",
            "y true: 1 y pred: 1.0\n",
            "y true: 0 y pred: 0.0\n",
            "y true: 0 y pred: 0.0\n",
            "y true: 0 y pred: 0.0\n",
            "y true: 0 y pred: 0.0\n",
            "y true: 1 y pred: 1.0\n",
            "y true: 1 y pred: 1.0\n",
            "y true: 1 y pred: 1.0\n",
            "y true: 0 y pred: 1.0\n",
            "y true: 1 y pred: 1.0\n",
            "y true: 0 y pred: 0.0\n",
            "y true: 1 y pred: 1.0\n",
            "y true: 0 y pred: 0.0\n",
            "y true: 1 y pred: 0.0\n",
            "y true: 1 y pred: 0.0\n",
            "y true: 0 y pred: 0.0\n",
            "y true: 1 y pred: 1.0\n",
            "y true: 0 y pred: 0.0\n",
            "y true: 0 y pred: 0.0\n",
            "y true: 1 y pred: 0.0\n",
            "y true: 0 y pred: 0.0\n",
            "y true: 1 y pred: 1.0\n",
            "y true: 1 y pred: 1.0\n",
            "y true: 0 y pred: 0.0\n",
            "y true: 0 y pred: 0.0\n",
            "y true: 1 y pred: 1.0\n",
            "y true: 1 y pred: 1.0\n",
            "y true: 0 y pred: 0.0\n",
            "y true: 0 y pred: 0.0\n",
            "y true: 0 y pred: 0.0\n",
            "y true: 0 y pred: 0.0\n",
            "y true: 0 y pred: 1.0\n",
            "y true: 0 y pred: 1.0\n",
            "y true: 1 y pred: 0.0\n",
            "y true: 1 y pred: 1.0\n",
            "y true: 0 y pred: 0.0\n",
            "y true: 1 y pred: 1.0\n",
            "y true: 0 y pred: 1.0\n"
          ]
        },
        {
          "output_type": "execute_result",
          "data": {
            "text/plain": [
              "((63,), (63,))"
            ]
          },
          "metadata": {},
          "execution_count": 35
        }
      ]
    },
    {
      "cell_type": "markdown",
      "source": [
        "* 예측 시각화"
      ],
      "metadata": {
        "id": "gThN4RCR0_HI"
      }
    },
    {
      "cell_type": "code",
      "source": [
        "from sklearn.metrics import confusion_matrix, ConfusionMatrixDisplay\n",
        "\n",
        "cm = confusion_matrix(y_test,y_pred)\n",
        "print(cm)\n",
        "ConfusionMatrixDisplay(cm).plot(cmap= 'Blues')"
      ],
      "metadata": {
        "id": "TG533VyLwDaK",
        "outputId": "ac636357-c6bb-4600-de2f-ca02ac0ca299",
        "colab": {
          "base_uri": "https://localhost:8080/",
          "height": 331
        }
      },
      "execution_count": 48,
      "outputs": [
        {
          "output_type": "stream",
          "name": "stdout",
          "text": [
            "[[28  5]\n",
            " [ 8 22]]\n"
          ]
        },
        {
          "output_type": "execute_result",
          "data": {
            "text/plain": [
              "<sklearn.metrics._plot.confusion_matrix.ConfusionMatrixDisplay at 0x7f5bf2fb6390>"
            ]
          },
          "metadata": {},
          "execution_count": 48
        },
        {
          "output_type": "display_data",
          "data": {
            "text/plain": [
              "<Figure size 432x288 with 2 Axes>"
            ],
            "image/png": "[encoded data removed]"
          },
          "metadata": {
            "needs_background": "light"
          }
        }
      ]
    },
    {
      "cell_type": "markdown",
      "source": [
        "## 과제\n",
        "---"
      ],
      "metadata": {
        "id": "ZFrRTgcyipYg"
      }
    },
    {
      "cell_type": "markdown",
      "source": [
        "### | 과제1. 이진분류 문제 정리\n",
        "\n",
        "* 예측값의 범위 : 0 또는 1\n",
        "* 예측값의 shape : (샘플수, 1) 혹은 (샘플수,)\n",
        "* 아웃풋 레이어의 노드 개수 : 1 개\n",
        "* 아웃풋 레이어의 activation : sigmoid\n",
        "* 손실함수 (loss) : binary_crossentroty\n",
        "* 평가함수 (metrics) : accuracy(정확도)"
      ],
      "metadata": {
        "id": "xjnJSLgXK_Pp"
      }
    },
    {
      "cell_type": "markdown",
      "source": [
        "### | 과제2. 한 셀에 코드 정리하기\n",
        "\n",
        "* 추가 연습\n",
        "  * 모델의 깊이(depth)를 늘려가며 학습해 보세요.\n",
        "  * 모델의 너비(width)를 늘려가며 학습해 보세요."
      ],
      "metadata": {
        "id": "ZvFAB78P1B_Q"
      }
    },
    {
      "cell_type": "code",
      "source": [
        "from sklearn.preprocessing import StandardScaler, LabelEncoder #머신러닝 라이브러리\n",
        "from sklearn.model_selection import train_test_split\n",
        "from tensorflow.keras import models, layers, utils\n",
        "from sklearn.metrics import confusion_matrix, ConfusionMatrixDisplay\n",
        "\n",
        "def path2dataset_sonar(path):\n",
        "\n",
        "  # <불러오기>\n",
        "  dataset =  pd.read_csv(path, \n",
        "                       header=None, \n",
        "                       ) # 데이터 형식 : pandas의 데이터프레임\n",
        "  dataset = dataset.values #데이터 형식 : 넘파이 배열로 변환\n",
        "  # <x-y 분할> -> 넘파이 배열을 슬라이싱하는 기법\n",
        "  x = dataset[:, 0:-1]  # ( : 모든행,첫번째 부터 마지막 전까지) * a:b -> a~b까지\n",
        "  y = dataset[:, -1]    # 마지막꺼\n",
        "  #print(x.shape, y.shape)\n",
        "\n",
        "\n",
        "  # <정규화(속셩별로 데이터의 스케일을 조정)> # -x 데이터에만 해준다.\n",
        "  scaler = StandardScaler()\n",
        "  x = scaler.fit_transform(x)\n",
        "  #print(dataset.shape, dataset.dtype) # 데이터 형식 : 넘파이 배열\n",
        "  \n",
        "  # <라벨링>y{R,M} -> {0,1}\n",
        "  labeling = LabelEncoder()\n",
        "  y = labeling.fit_transform(y)\n",
        "  print(labeling.classes_)\n",
        "  \n",
        "\n",
        "  # <**train-test 분할**>\n",
        "  x_train, x_test, y_train, y_test = train_test_split(x,y,test_size=0.3)\n",
        "  return x_train, x_test, y_train, y_test\n",
        "  \n",
        "def build_model():\n",
        "   x = layers.Input(shape = (60))\n",
        "   y = layers.Dense(80,activation = 'relu')(x) \n",
        "   y = layers.Dense(40, activation = 'relu')(y)\n",
        "   y = layers.Dense(1, activation = 'sigmoid')(y) #이진분류 문제의 경우, 마지막 레이어에서 sigmoid 사용\n",
        "   model = models.Model(x, y)\n",
        "   return model\n",
        "\n",
        "path = '/content/SkillTreePython-DeepLearning/dataset/sonar.csv'\n",
        "x_train, x_test, y_train, y_test = path2dataset_sonar(path)\n",
        "print(x_train.shape, x_test.shape, y_train.shape, y_test.shape)\n",
        "print(f'첫번째 샘플 x:{x_train[0]}')\n",
        "print(f'첫번째 샘플 y:{y_train[0]}')\n",
        "\n",
        "model = build_model()\n",
        "model.summary()\n",
        "\n",
        "model.compile(loss='binary_crossentropy',\n",
        "             optimizer = 'adam',\n",
        "             metrics = ['accuracy'])\n",
        "model.fit(x_train, y_train, epochs =30, batch_size = 10)\n",
        "\n",
        "y_pred = model.predict(x_test)\n",
        "y_pred = y_pred.flatten()\n",
        "y_pred = np.round(y_pred) \n",
        "for i in range(50):\n",
        "  print('y true:', y_test[i], 'y pred:', y_pred[i])\n",
        "y_test.shape, y_pred.shape\n",
        "\n",
        "cm = confusion_matrix(y_test,y_pred)\n",
        "print(cm)\n",
        "ConfusionMatrixDisplay(cm).plot(cmap= 'Blues')"
      ],
      "metadata": {
        "id": "v5WYSd9a1Cz4",
        "outputId": "4961d8e6-2626-4b78-e88e-c2bc95db6528",
        "colab": {
          "base_uri": "https://localhost:8080/",
          "height": 1000
        }
      },
      "execution_count": 49,
      "outputs": [
        {
          "output_type": "stream",
          "name": "stdout",
          "text": [
            "['M' 'R']\n",
            "(145, 60) (63, 60) (145,) (63,)\n",
            "첫번째 샘플 x:[-1.20615835 -0.60328999 -0.38951266 -0.74095829 -0.42769865 -0.38787239\n",
            " -0.34469365 -1.44088297 -0.5182194  -0.45236879 -0.18289791  0.05209041\n",
            " -0.26955286 -0.99445209 -1.51758067 -0.79015248 -0.18051523  0.04707449\n",
            "  0.1437185   0.24026107  0.5168784   0.78907491  0.85716302  0.70153924\n",
            "  0.89825313  1.24498292  1.2153686   1.14478085  0.97060315  0.20330806\n",
            " -1.34007377 -0.67947475 -0.2559012   0.42467788  1.51534195  2.09215621\n",
            "  1.90399769  1.32279875  0.63194033 -0.0606331  -0.12801415 -0.32196152\n",
            "  0.4872258   1.16736727  0.67014029  0.46378392 -0.43291895 -0.89171619\n",
            " -0.64205439 -0.60328372 -0.96570457 -0.27262999 -0.45562647 -0.28021418\n",
            " -0.80479837 -0.92998098 -1.12970836 -1.07665762 -0.76888703 -0.3600787 ]\n",
            "첫번째 샘플 y:0\n",
            "Model: \"model_2\"\n",
            "_________________________________________________________________\n",
            " Layer (type)                Output Shape              Param #   \n",
            "=================================================================\n",
            " input_3 (InputLayer)        [(None, 60)]              0         \n",
            "                                                                 \n",
            " dense_4 (Dense)             (None, 80)                4880      \n",
            "                                                                 \n",
            " dense_5 (Dense)             (None, 40)                3240      \n",
            "                                                                 \n",
            " dense_6 (Dense)             (None, 1)                 41        \n",
            "                                                                 \n",
            "=================================================================\n",
            "Total params: 8,161\n",
            "Trainable params: 8,161\n",
            "Non-trainable params: 0\n",
            "_________________________________________________________________\n",
            "Epoch 1/30\n",
            "15/15 [==============================] - 1s 4ms/step - loss: 0.6372 - accuracy: 0.6207\n",
            "Epoch 2/30\n",
            "15/15 [==============================] - 0s 4ms/step - loss: 0.4407 - accuracy: 0.8138\n",
            "Epoch 3/30\n",
            "15/15 [==============================] - 0s 6ms/step - loss: 0.3505 - accuracy: 0.8966\n",
            "Epoch 4/30\n",
            "15/15 [==============================] - 0s 4ms/step - loss: 0.2836 - accuracy: 0.9310\n",
            "Epoch 5/30\n",
            "15/15 [==============================] - 0s 4ms/step - loss: 0.2336 - accuracy: 0.9517\n",
            "Epoch 6/30\n",
            "15/15 [==============================] - 0s 4ms/step - loss: 0.1938 - accuracy: 0.9586\n",
            "Epoch 7/30\n",
            "15/15 [==============================] - 0s 4ms/step - loss: 0.1606 - accuracy: 0.9862\n",
            "Epoch 8/30\n",
            "15/15 [==============================] - 0s 5ms/step - loss: 0.1319 - accuracy: 0.9931\n",
            "Epoch 9/30\n",
            "15/15 [==============================] - 0s 4ms/step - loss: 0.1088 - accuracy: 0.9931\n",
            "Epoch 10/30\n",
            "15/15 [==============================] - 0s 5ms/step - loss: 0.0929 - accuracy: 1.0000\n",
            "Epoch 11/30\n",
            "15/15 [==============================] - 0s 6ms/step - loss: 0.0748 - accuracy: 0.9931\n",
            "Epoch 12/30\n",
            "15/15 [==============================] - 0s 4ms/step - loss: 0.0626 - accuracy: 1.0000\n",
            "Epoch 13/30\n",
            "15/15 [==============================] - 0s 4ms/step - loss: 0.0530 - accuracy: 1.0000\n",
            "Epoch 14/30\n",
            "15/15 [==============================] - 0s 4ms/step - loss: 0.0435 - accuracy: 1.0000\n",
            "Epoch 15/30\n",
            "15/15 [==============================] - 0s 4ms/step - loss: 0.0364 - accuracy: 1.0000\n",
            "Epoch 16/30\n",
            "15/15 [==============================] - 0s 5ms/step - loss: 0.0309 - accuracy: 1.0000\n",
            "Epoch 17/30\n",
            "15/15 [==============================] - 0s 4ms/step - loss: 0.0267 - accuracy: 1.0000\n",
            "Epoch 18/30\n",
            "15/15 [==============================] - 0s 4ms/step - loss: 0.0228 - accuracy: 1.0000\n",
            "Epoch 19/30\n",
            "15/15 [==============================] - 0s 5ms/step - loss: 0.0197 - accuracy: 1.0000\n",
            "Epoch 20/30\n",
            "15/15 [==============================] - 0s 5ms/step - loss: 0.0170 - accuracy: 1.0000\n",
            "Epoch 21/30\n",
            "15/15 [==============================] - 0s 4ms/step - loss: 0.0150 - accuracy: 1.0000\n",
            "Epoch 22/30\n",
            "15/15 [==============================] - 0s 5ms/step - loss: 0.0132 - accuracy: 1.0000\n",
            "Epoch 23/30\n",
            "15/15 [==============================] - 0s 4ms/step - loss: 0.0116 - accuracy: 1.0000\n",
            "Epoch 24/30\n",
            "15/15 [==============================] - 0s 3ms/step - loss: 0.0102 - accuracy: 1.0000\n",
            "Epoch 25/30\n",
            "15/15 [==============================] - 0s 3ms/step - loss: 0.0091 - accuracy: 1.0000\n",
            "Epoch 26/30\n",
            "15/15 [==============================] - 0s 3ms/step - loss: 0.0083 - accuracy: 1.0000\n",
            "Epoch 27/30\n",
            "15/15 [==============================] - 0s 3ms/step - loss: 0.0075 - accuracy: 1.0000\n",
            "Epoch 28/30\n",
            "15/15 [==============================] - 0s 3ms/step - loss: 0.0068 - accuracy: 1.0000\n",
            "Epoch 29/30\n",
            "15/15 [==============================] - 0s 3ms/step - loss: 0.0061 - accuracy: 1.0000\n",
            "Epoch 30/30\n",
            "15/15 [==============================] - 0s 3ms/step - loss: 0.0055 - accuracy: 1.0000\n",
            "y true: 0 y pred: 0.0\n",
            "y true: 0 y pred: 0.0\n",
            "y true: 0 y pred: 0.0\n",
            "y true: 1 y pred: 0.0\n",
            "y true: 1 y pred: 1.0\n",
            "y true: 1 y pred: 1.0\n",
            "y true: 1 y pred: 1.0\n",
            "y true: 1 y pred: 0.0\n",
            "y true: 0 y pred: 0.0\n",
            "y true: 0 y pred: 1.0\n",
            "y true: 0 y pred: 0.0\n",
            "y true: 0 y pred: 0.0\n",
            "y true: 1 y pred: 0.0\n",
            "y true: 1 y pred: 1.0\n",
            "y true: 0 y pred: 0.0\n",
            "y true: 1 y pred: 1.0\n",
            "y true: 1 y pred: 0.0\n",
            "y true: 1 y pred: 1.0\n",
            "y true: 0 y pred: 0.0\n",
            "y true: 1 y pred: 1.0\n",
            "y true: 0 y pred: 0.0\n",
            "y true: 0 y pred: 0.0\n",
            "y true: 0 y pred: 0.0\n",
            "y true: 0 y pred: 0.0\n",
            "y true: 0 y pred: 0.0\n",
            "y true: 0 y pred: 0.0\n",
            "y true: 1 y pred: 1.0\n",
            "y true: 0 y pred: 0.0\n",
            "y true: 0 y pred: 0.0\n",
            "y true: 0 y pred: 0.0\n",
            "y true: 1 y pred: 1.0\n",
            "y true: 0 y pred: 1.0\n",
            "y true: 0 y pred: 0.0\n",
            "y true: 1 y pred: 1.0\n",
            "y true: 1 y pred: 0.0\n",
            "y true: 0 y pred: 0.0\n",
            "y true: 0 y pred: 1.0\n",
            "y true: 0 y pred: 0.0\n",
            "y true: 1 y pred: 1.0\n",
            "y true: 0 y pred: 0.0\n",
            "y true: 0 y pred: 0.0\n",
            "y true: 1 y pred: 1.0\n",
            "y true: 1 y pred: 0.0\n",
            "y true: 0 y pred: 0.0\n",
            "y true: 1 y pred: 1.0\n",
            "y true: 1 y pred: 1.0\n",
            "y true: 1 y pred: 0.0\n",
            "y true: 0 y pred: 0.0\n",
            "y true: 0 y pred: 0.0\n",
            "y true: 1 y pred: 1.0\n",
            "[[31  3]\n",
            " [ 8 21]]\n"
          ]
        },
        {
          "output_type": "execute_result",
          "data": {
            "text/plain": [
              "<sklearn.metrics._plot.confusion_matrix.ConfusionMatrixDisplay at 0x7f5bf2e01f10>"
            ]
          },
          "metadata": {},
          "execution_count": 49
        },
        {
          "output_type": "display_data",
          "data": {
            "text/plain": [
              "<Figure size 432x288 with 2 Axes>"
            ],
            "image/png": "[encoded data removed]"
          },
          "metadata": {
            "needs_background": "light"
          }
        }
      ]
    },
    {
      "cell_type": "markdown",
      "source": [
        "### | 과제 3. 피마 인디언 당뇨병 예측\n",
        "\n",
        "\n",
        "* `pima-indians-diabetes.csv`\n",
        "```\n",
        "df = pd.read_csv(data_path,\n",
        "                names = [\"pregnant\", \"plasma\", \"pressure\", \"thickness\", \"insulin\", \"BMI\", \"pedigree\", \"age\", \"class\"])\n",
        "```"
      ],
      "metadata": {
        "id": "2K0mAdPzjOAf"
      }
    },
    {
      "cell_type": "code",
      "source": [
        "from sklearn.preprocessing import StandardScaler, LabelEncoder #머신러닝 라이브러리\n",
        "from sklearn.model_selection import train_test_split\n",
        "from tensorflow.keras import models, layers, utils\n",
        "from sklearn.metrics import confusion_matrix, ConfusionMatrixDisplay\n",
        "\n",
        "def path2dataset_sonar(path):\n",
        "\n",
        "  # <불러오기>\n",
        "  df =  pd.read_csv(path, \n",
        "                       header=None, \n",
        "                       ) # 데이터 형식 : pandas의 데이터프레임\n",
        "  df = df.values #데이터 형식 : 넘파이 배열로 변환\n",
        "  # <x-y 분할> -> 넘파이 배열을 슬라이싱하는 기법\n",
        "  x = df[:, 0:-1]  # ( : 모든행,첫번째 부터 마지막 전까지) * a:b -> a~b까지\n",
        "  y = df[:, -1]    # 마지막꺼\n",
        "  #print(x.shape, y.shape)\n",
        "\n",
        "\n",
        "  # <정규화(속셩별로 데이터의 스케일을 조정)> # -x 데이터에만 해준다.\n",
        "  scaler = StandardScaler()\n",
        "  x = scaler.fit_transform(x)\n",
        "  #print(dataset.shape, dataset.dtype) # 데이터 형식 : 넘파이 배열\n",
        "  \n",
        "  # <라벨링>y{R,M} -> {0,1}\n",
        "  labeling = LabelEncoder()\n",
        "  y = labeling.fit_transform(y)\n",
        "  print(labeling.classes_)\n",
        "  \n",
        "\n",
        "  # <**train-test 분할**>\n",
        "  x_train, x_test, y_train, y_test = train_test_split(x,y,test_size=0.3)\n",
        "  return x_train, x_test, y_train, y_test\n",
        "  \n",
        "def build_model():\n",
        "   x = layers.Input(shape = (8))\n",
        "   y = layers.Dense(20,activation = 'relu')(x) \n",
        "   y = layers.Dense(1, activation = 'sigmoid')(y) #이진분류 문제의 경우, 마지막 레이어에서 sigmoid 사용\n",
        "   model = models.Model(x, y)\n",
        "   return model\n",
        "\n",
        "path = '/content/SkillTreePython-DeepLearning/dataset/pima-indians-diabetes.csv'\n",
        "x_train, x_test, y_train, y_test = path2dataset_sonar(path)\n",
        "print(x_train.shape, x_test.shape, y_train.shape, y_test.shape)\n",
        "print(f'첫번째 샘플 x:{x_train[0]}')\n",
        "print(f'첫번째 샘플 y:{y_train[0]}')\n",
        "\n",
        "model = build_model()\n",
        "model.summary()\n",
        "\n",
        "model.compile(loss='binary_crossentropy',\n",
        "             optimizer = 'adam',\n",
        "             metrics = ['accuracy'])"
      ],
      "metadata": {
        "id": "Ppi8p2S_HsVb",
        "outputId": "38cdd3af-5c83-4640-d004-281c17ab85bf",
        "colab": {
          "base_uri": "https://localhost:8080/"
        }
      },
      "execution_count": 55,
      "outputs": [
        {
          "output_type": "stream",
          "name": "stdout",
          "text": [
            "[0. 1.]\n",
            "(537, 8) (231, 8) (537,) (231,)\n",
            "첫번째 샘플 x:[ 1.53084665  1.97502103  0.8217115  -0.3472913  -0.69289057 -0.25289651\n",
            "  2.23828152  1.34090765]\n",
            "첫번째 샘플 y:1\n",
            "Model: \"model_5\"\n",
            "_________________________________________________________________\n",
            " Layer (type)                Output Shape              Param #   \n",
            "=================================================================\n",
            " input_6 (InputLayer)        [(None, 8)]               0         \n",
            "                                                                 \n",
            " dense_13 (Dense)            (None, 20)                180       \n",
            "                                                                 \n",
            " dense_14 (Dense)            (None, 1)                 21        \n",
            "                                                                 \n",
            "=================================================================\n",
            "Total params: 201\n",
            "Trainable params: 201\n",
            "Non-trainable params: 0\n",
            "_________________________________________________________________\n"
          ]
        }
      ]
    },
    {
      "cell_type": "code",
      "source": [
        "model.fit(x_train, y_train, epochs =30, batch_size = 10)\n"
      ],
      "metadata": {
        "id": "ELFzdkd2TUEq",
        "outputId": "b56aa5a0-1e21-4df2-af18-99b34b9e401e",
        "colab": {
          "base_uri": "https://localhost:8080/"
        }
      },
      "execution_count": 56,
      "outputs": [
        {
          "output_type": "stream",
          "name": "stdout",
          "text": [
            "Epoch 1/30\n",
            "54/54 [==============================] - 1s 5ms/step - loss: 0.6093 - accuracy: 0.7169\n",
            "Epoch 2/30\n",
            "54/54 [==============================] - 0s 5ms/step - loss: 0.5374 - accuracy: 0.7635\n",
            "Epoch 3/30\n",
            "54/54 [==============================] - 0s 5ms/step - loss: 0.5019 - accuracy: 0.7765\n",
            "Epoch 4/30\n",
            "54/54 [==============================] - 0s 3ms/step - loss: 0.4829 - accuracy: 0.7728\n",
            "Epoch 5/30\n",
            "54/54 [==============================] - 0s 3ms/step - loss: 0.4701 - accuracy: 0.7765\n",
            "Epoch 6/30\n",
            "54/54 [==============================] - 0s 2ms/step - loss: 0.4614 - accuracy: 0.7877\n",
            "Epoch 7/30\n",
            "54/54 [==============================] - 0s 2ms/step - loss: 0.4544 - accuracy: 0.7896\n",
            "Epoch 8/30\n",
            "54/54 [==============================] - 0s 3ms/step - loss: 0.4492 - accuracy: 0.7914\n",
            "Epoch 9/30\n",
            "54/54 [==============================] - 0s 3ms/step - loss: 0.4452 - accuracy: 0.7933\n",
            "Epoch 10/30\n",
            "54/54 [==============================] - 0s 3ms/step - loss: 0.4400 - accuracy: 0.7914\n",
            "Epoch 11/30\n",
            "54/54 [==============================] - 0s 2ms/step - loss: 0.4369 - accuracy: 0.7933\n",
            "Epoch 12/30\n",
            "54/54 [==============================] - 0s 3ms/step - loss: 0.4331 - accuracy: 0.7952\n",
            "Epoch 13/30\n",
            "54/54 [==============================] - 0s 3ms/step - loss: 0.4304 - accuracy: 0.7970\n",
            "Epoch 14/30\n",
            "54/54 [==============================] - 0s 3ms/step - loss: 0.4282 - accuracy: 0.7970\n",
            "Epoch 15/30\n",
            "54/54 [==============================] - 0s 2ms/step - loss: 0.4260 - accuracy: 0.7970\n",
            "Epoch 16/30\n",
            "54/54 [==============================] - 0s 3ms/step - loss: 0.4245 - accuracy: 0.7989\n",
            "Epoch 17/30\n",
            "54/54 [==============================] - 0s 3ms/step - loss: 0.4225 - accuracy: 0.7970\n",
            "Epoch 18/30\n",
            "54/54 [==============================] - 0s 3ms/step - loss: 0.4203 - accuracy: 0.8007\n",
            "Epoch 19/30\n",
            "54/54 [==============================] - 0s 3ms/step - loss: 0.4193 - accuracy: 0.8026\n",
            "Epoch 20/30\n",
            "54/54 [==============================] - 0s 3ms/step - loss: 0.4176 - accuracy: 0.8063\n",
            "Epoch 21/30\n",
            "54/54 [==============================] - 0s 2ms/step - loss: 0.4171 - accuracy: 0.8045\n",
            "Epoch 22/30\n",
            "54/54 [==============================] - 0s 2ms/step - loss: 0.4154 - accuracy: 0.7989\n",
            "Epoch 23/30\n",
            "54/54 [==============================] - 0s 2ms/step - loss: 0.4152 - accuracy: 0.7952\n",
            "Epoch 24/30\n",
            "54/54 [==============================] - 0s 3ms/step - loss: 0.4143 - accuracy: 0.7989\n",
            "Epoch 25/30\n",
            "54/54 [==============================] - 0s 2ms/step - loss: 0.4139 - accuracy: 0.7989\n",
            "Epoch 26/30\n",
            "54/54 [==============================] - 0s 3ms/step - loss: 0.4110 - accuracy: 0.8026\n",
            "Epoch 27/30\n",
            "54/54 [==============================] - 0s 3ms/step - loss: 0.4111 - accuracy: 0.7970\n",
            "Epoch 28/30\n",
            "54/54 [==============================] - 0s 3ms/step - loss: 0.4097 - accuracy: 0.7989\n",
            "Epoch 29/30\n",
            "54/54 [==============================] - 0s 3ms/step - loss: 0.4083 - accuracy: 0.8026\n",
            "Epoch 30/30\n",
            "54/54 [==============================] - 0s 2ms/step - loss: 0.4085 - accuracy: 0.7989\n"
          ]
        },
        {
          "output_type": "execute_result",
          "data": {
            "text/plain": [
              "<keras.callbacks.History at 0x7f5bf22e2c10>"
            ]
          },
          "metadata": {},
          "execution_count": 56
        }
      ]
    },
    {
      "cell_type": "code",
      "source": [
        "y_pred = model.predict(x_test)\n",
        "y_pred = y_pred.flatten()\n",
        "y_pred = np.round(y_pred) \n",
        "for i in range(50):\n",
        "  print('y true:', y_test[i], 'y pred:', y_pred[i])\n",
        "y_test.shape, y_pred.shape"
      ],
      "metadata": {
        "id": "SIo_qeCWT4qK",
        "outputId": "5a476533-f755-4aa8-e7dd-41eb6470c51d",
        "colab": {
          "base_uri": "https://localhost:8080/"
        }
      },
      "execution_count": 57,
      "outputs": [
        {
          "output_type": "stream",
          "name": "stdout",
          "text": [
            "y true: 0 y pred: 0.0\n",
            "y true: 1 y pred: 0.0\n",
            "y true: 1 y pred: 0.0\n",
            "y true: 0 y pred: 0.0\n",
            "y true: 0 y pred: 0.0\n",
            "y true: 1 y pred: 0.0\n",
            "y true: 0 y pred: 1.0\n",
            "y true: 0 y pred: 0.0\n",
            "y true: 0 y pred: 1.0\n",
            "y true: 0 y pred: 0.0\n",
            "y true: 0 y pred: 0.0\n",
            "y true: 1 y pred: 1.0\n",
            "y true: 0 y pred: 0.0\n",
            "y true: 1 y pred: 0.0\n",
            "y true: 0 y pred: 0.0\n",
            "y true: 0 y pred: 0.0\n",
            "y true: 1 y pred: 0.0\n",
            "y true: 0 y pred: 0.0\n",
            "y true: 0 y pred: 0.0\n",
            "y true: 1 y pred: 0.0\n",
            "y true: 1 y pred: 1.0\n",
            "y true: 0 y pred: 1.0\n",
            "y true: 0 y pred: 1.0\n",
            "y true: 1 y pred: 1.0\n",
            "y true: 1 y pred: 1.0\n",
            "y true: 1 y pred: 1.0\n",
            "y true: 0 y pred: 0.0\n",
            "y true: 1 y pred: 1.0\n",
            "y true: 0 y pred: 0.0\n",
            "y true: 0 y pred: 1.0\n",
            "y true: 0 y pred: 0.0\n",
            "y true: 0 y pred: 0.0\n",
            "y true: 1 y pred: 0.0\n",
            "y true: 1 y pred: 1.0\n",
            "y true: 0 y pred: 0.0\n",
            "y true: 1 y pred: 1.0\n",
            "y true: 1 y pred: 0.0\n",
            "y true: 0 y pred: 0.0\n",
            "y true: 0 y pred: 1.0\n",
            "y true: 0 y pred: 0.0\n",
            "y true: 0 y pred: 0.0\n",
            "y true: 1 y pred: 1.0\n",
            "y true: 0 y pred: 0.0\n",
            "y true: 0 y pred: 0.0\n",
            "y true: 0 y pred: 1.0\n",
            "y true: 1 y pred: 1.0\n",
            "y true: 1 y pred: 0.0\n",
            "y true: 1 y pred: 1.0\n",
            "y true: 0 y pred: 0.0\n",
            "y true: 1 y pred: 1.0\n"
          ]
        },
        {
          "output_type": "execute_result",
          "data": {
            "text/plain": [
              "((231,), (231,))"
            ]
          },
          "metadata": {},
          "execution_count": 57
        }
      ]
    },
    {
      "cell_type": "markdown",
      "source": [
        "### | 과제 4. 생각해보기\n",
        "\n",
        "데이터가 불균형 할 때 딥러닝에서는 어떠한 방법을 써서 이를 해결 하나요? \n"
      ],
      "metadata": {
        "id": "s4VjzrycjTUK"
      }
    },
    {
      "cell_type": "markdown",
      "source": [
        "1. 샘플링 데이터를 늘린다.\n",
        "2. 원하는 데이터의 loss에 특정 값을 곱하여 학습을 진행한다."
      ],
      "metadata": {
        "id": "G_ebuPxhSElJ"
      }
    },
    {
      "cell_type": "code",
      "source": [
        ""
      ],
      "metadata": {
        "id": "tcMHkA5BjSho"
      },
      "execution_count": 50,
      "outputs": []
    },
    {
      "cell_type": "code",
      "source": [
        ""
      ],
      "metadata": {
        "id": "v4cG1mU2SAL7"
      },
      "execution_count": null,
      "outputs": []
    }
  ]
}