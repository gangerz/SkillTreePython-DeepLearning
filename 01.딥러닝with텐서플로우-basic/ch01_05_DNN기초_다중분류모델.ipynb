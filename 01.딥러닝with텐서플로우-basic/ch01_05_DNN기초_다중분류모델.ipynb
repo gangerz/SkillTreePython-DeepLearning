{
  "nbformat": 4,
  "nbformat_minor": 0,
  "metadata": {
    "colab": {
      "name": "ch01_05_DNN기초-다중분류모델.ipynb",
      "provenance": [],
      "collapsed_sections": [],
      "machine_shape": "hm",
      "toc_visible": true,
      "include_colab_link": true
    },
    "kernelspec": {
      "name": "python3",
      "display_name": "Python 3"
    },
    "language_info": {
      "name": "python"
    },
    "accelerator": "GPU",
    "gpuClass": "standard"
  },
  "cells": [
    {
      "cell_type": "markdown",
      "metadata": {
        "id": "view-in-github",
        "colab_type": "text"
      },
      "source": [
        "<a href=\"https://colab.research.google.com/github/gangerz/SkillTreePython-DeepLearning/blob/main/01.%EB%94%A5%EB%9F%AC%EB%8B%9Dwith%ED%85%90%EC%84%9C%ED%94%8C%EB%A1%9C%EC%9A%B0-basic/ch01_05_DNN%EA%B8%B0%EC%B4%88_%EB%8B%A4%EC%A4%91%EB%B6%84%EB%A5%98%EB%AA%A8%EB%8D%B8.ipynb\" target=\"_parent\"><img src=\"https://colab.research.google.com/assets/colab-badge.svg\" alt=\"Open In Colab\"/></a>"
      ]
    },
    {
      "cell_type": "markdown",
      "source": [
        "# ch01.05. 딥러닝 다중 분류 모델\n",
        "---\n",
        "* 날짜: 2022-07-01\n",
        "* 이름: 윤예현\n",
        "\n",
        "## 학습내용\n",
        "    - 딥러닝을 이용한 멀티클래스 분류 진행\n",
        "    - 적절한 손실함수와 최적화 함수 정의\n",
        "    - 평가 및 예측\n",
        "    \n",
        "## 학습자료\n",
        "\n",
        "* 모두의딥러닝\n",
        "* 데이터\n",
        "  * `iris.csv`\n",
        "  * MNIST 데이터셋\n",
        "\n",
        "\n",
        "```\n",
        "import numpy as np\n",
        "import pandas as pd\n",
        "import tensorflow as tf\n",
        "import matplotlib.pyplot as plt\n",
        "import seaborn as sns\n",
        "seed=1\n",
        "np.random.seed(seed)\n",
        "tf.random.set_seed(seed)\n",
        "```\n",
        "\n",
        "```\n",
        "https://github.com/yebiny/SkillTreePython-DeepLearning.git\n",
        "```"
      ],
      "metadata": {
        "id": "sWs2kEC1_b-P"
      }
    },
    {
      "cell_type": "code",
      "source": [
        "import numpy as np\n",
        "import pandas as pd\n",
        "import tensorflow as tf\n",
        "import matplotlib.pyplot as plt\n",
        "import seaborn as sns\n",
        "seed=1\n",
        "np.random.seed(seed)\n",
        "tf.random.set_seed(seed)"
      ],
      "metadata": {
        "id": "HJqjPthwgTg-"
      },
      "execution_count": 1,
      "outputs": []
    },
    {
      "cell_type": "code",
      "source": [
        "!git clone https://github.com/yebiny/SkillTreePython-DeepLearning.git"
      ],
      "metadata": {
        "id": "XiKfkQgYfoIE",
        "outputId": "4e367ef9-35fa-4476-d37e-72dafe072617",
        "colab": {
          "base_uri": "https://localhost:8080/"
        }
      },
      "execution_count": 2,
      "outputs": [
        {
          "output_type": "stream",
          "name": "stdout",
          "text": [
            "Cloning into 'SkillTreePython-DeepLearning'...\n",
            "remote: Enumerating objects: 322, done.\u001b[K\n",
            "remote: Counting objects: 100% (144/144), done.\u001b[K\n",
            "remote: Compressing objects: 100% (80/80), done.\u001b[K\n",
            "remote: Total 322 (delta 94), reused 88 (delta 64), pack-reused 178\u001b[K\n",
            "Receiving objects: 100% (322/322), 22.21 MiB | 9.63 MiB/s, done.\n",
            "Resolving deltas: 100% (129/129), done.\n"
          ]
        }
      ]
    },
    {
      "cell_type": "markdown",
      "source": [
        "## 아이리스 꽃 종류 예측\n",
        "---\n",
        "\n",
        "\n",
        "```\n",
        "- 0 sepal_length  꽃받침 길이\n",
        "- 1 sepal_width 꽃받침 너비\n",
        "- 2 petal_length 꽃임 길이\n",
        "- 3 petal_width 꽃잎 너비\n",
        "- 4 species 꽃의 종류 {setosa, versicolor virginica}\n",
        "```\n",
        "<p align='center'>\n",
        "<img src=https://github.com/yebiny/SkillTreePython-DeepLearning/blob/main/imgs/ch0105-01.PNG?raw=true width=550>\n",
        "</p>\n"
      ],
      "metadata": {
        "id": "4wsuH8GzftqZ"
      }
    },
    {
      "cell_type": "code",
      "execution_count": 8,
      "metadata": {
        "id": "68PCrczmzdId",
        "outputId": "9484b678-aee6-4849-842d-f86936500127",
        "colab": {
          "base_uri": "https://localhost:8080/",
          "height": 441
        }
      },
      "outputs": [
        {
          "output_type": "stream",
          "name": "stdout",
          "text": [
            "(150, 5)\n"
          ]
        },
        {
          "output_type": "execute_result",
          "data": {
            "text/plain": [
              "       0    1    2    3               4\n",
              "0    5.1  3.5  1.4  0.2     Iris-setosa\n",
              "1    4.9  3.0  1.4  0.2     Iris-setosa\n",
              "2    4.7  3.2  1.3  0.2     Iris-setosa\n",
              "3    4.6  3.1  1.5  0.2     Iris-setosa\n",
              "4    5.0  3.6  1.4  0.2     Iris-setosa\n",
              "..   ...  ...  ...  ...             ...\n",
              "145  6.7  3.0  5.2  2.3  Iris-virginica\n",
              "146  6.3  2.5  5.0  1.9  Iris-virginica\n",
              "147  6.5  3.0  5.2  2.0  Iris-virginica\n",
              "148  6.2  3.4  5.4  2.3  Iris-virginica\n",
              "149  5.9  3.0  5.1  1.8  Iris-virginica\n",
              "\n",
              "[150 rows x 5 columns]"
            ],
            "text/html": [
              "\n",
              "  <div id=\"df-a7ec171b-e098-45a4-9f0e-0ba29820b881\">\n",
              "    <div class=\"colab-df-container\">\n",
              "      <div>\n",
              "<style scoped>\n",
              "    .dataframe tbody tr th:only-of-type {\n",
              "        vertical-align: middle;\n",
              "    }\n",
              "\n",
              "    .dataframe tbody tr th {\n",
              "        vertical-align: top;\n",
              "    }\n",
              "\n",
              "    .dataframe thead th {\n",
              "        text-align: right;\n",
              "    }\n",
              "</style>\n",
              "<table border=\"1\" class=\"dataframe\">\n",
              "  <thead>\n",
              "    <tr style=\"text-align: right;\">\n",
              "      <th></th>\n",
              "      <th>0</th>\n",
              "      <th>1</th>\n",
              "      <th>2</th>\n",
              "      <th>3</th>\n",
              "      <th>4</th>\n",
              "    </tr>\n",
              "  </thead>\n",
              "  <tbody>\n",
              "    <tr>\n",
              "      <th>0</th>\n",
              "      <td>5.1</td>\n",
              "      <td>3.5</td>\n",
              "      <td>1.4</td>\n",
              "      <td>0.2</td>\n",
              "      <td>Iris-setosa</td>\n",
              "    </tr>\n",
              "    <tr>\n",
              "      <th>1</th>\n",
              "      <td>4.9</td>\n",
              "      <td>3.0</td>\n",
              "      <td>1.4</td>\n",
              "      <td>0.2</td>\n",
              "      <td>Iris-setosa</td>\n",
              "    </tr>\n",
              "    <tr>\n",
              "      <th>2</th>\n",
              "      <td>4.7</td>\n",
              "      <td>3.2</td>\n",
              "      <td>1.3</td>\n",
              "      <td>0.2</td>\n",
              "      <td>Iris-setosa</td>\n",
              "    </tr>\n",
              "    <tr>\n",
              "      <th>3</th>\n",
              "      <td>4.6</td>\n",
              "      <td>3.1</td>\n",
              "      <td>1.5</td>\n",
              "      <td>0.2</td>\n",
              "      <td>Iris-setosa</td>\n",
              "    </tr>\n",
              "    <tr>\n",
              "      <th>4</th>\n",
              "      <td>5.0</td>\n",
              "      <td>3.6</td>\n",
              "      <td>1.4</td>\n",
              "      <td>0.2</td>\n",
              "      <td>Iris-setosa</td>\n",
              "    </tr>\n",
              "    <tr>\n",
              "      <th>...</th>\n",
              "      <td>...</td>\n",
              "      <td>...</td>\n",
              "      <td>...</td>\n",
              "      <td>...</td>\n",
              "      <td>...</td>\n",
              "    </tr>\n",
              "    <tr>\n",
              "      <th>145</th>\n",
              "      <td>6.7</td>\n",
              "      <td>3.0</td>\n",
              "      <td>5.2</td>\n",
              "      <td>2.3</td>\n",
              "      <td>Iris-virginica</td>\n",
              "    </tr>\n",
              "    <tr>\n",
              "      <th>146</th>\n",
              "      <td>6.3</td>\n",
              "      <td>2.5</td>\n",
              "      <td>5.0</td>\n",
              "      <td>1.9</td>\n",
              "      <td>Iris-virginica</td>\n",
              "    </tr>\n",
              "    <tr>\n",
              "      <th>147</th>\n",
              "      <td>6.5</td>\n",
              "      <td>3.0</td>\n",
              "      <td>5.2</td>\n",
              "      <td>2.0</td>\n",
              "      <td>Iris-virginica</td>\n",
              "    </tr>\n",
              "    <tr>\n",
              "      <th>148</th>\n",
              "      <td>6.2</td>\n",
              "      <td>3.4</td>\n",
              "      <td>5.4</td>\n",
              "      <td>2.3</td>\n",
              "      <td>Iris-virginica</td>\n",
              "    </tr>\n",
              "    <tr>\n",
              "      <th>149</th>\n",
              "      <td>5.9</td>\n",
              "      <td>3.0</td>\n",
              "      <td>5.1</td>\n",
              "      <td>1.8</td>\n",
              "      <td>Iris-virginica</td>\n",
              "    </tr>\n",
              "  </tbody>\n",
              "</table>\n",
              "<p>150 rows × 5 columns</p>\n",
              "</div>\n",
              "      <button class=\"colab-df-convert\" onclick=\"convertToInteractive('df-a7ec171b-e098-45a4-9f0e-0ba29820b881')\"\n",
              "              title=\"Convert this dataframe to an interactive table.\"\n",
              "              style=\"display:none;\">\n",
              "        \n",
              "  <svg xmlns=\"http://www.w3.org/2000/svg\" height=\"24px\"viewBox=\"0 0 24 24\"\n",
              "       width=\"24px\">\n",
              "    <path d=\"M0 0h24v24H0V0z\" fill=\"none\"/>\n",
              "    <path d=\"M18.56 5.44l.94 2.06.94-2.06 2.06-.94-2.06-.94-.94-2.06-.94 2.06-2.06.94zm-11 1L8.5 8.5l.94-2.06 2.06-.94-2.06-.94L8.5 2.5l-.94 2.06-2.06.94zm10 10l.94 2.06.94-2.06 2.06-.94-2.06-.94-.94-2.06-.94 2.06-2.06.94z\"/><path d=\"M17.41 7.96l-1.37-1.37c-.4-.4-.92-.59-1.43-.59-.52 0-1.04.2-1.43.59L10.3 9.45l-7.72 7.72c-.78.78-.78 2.05 0 2.83L4 21.41c.39.39.9.59 1.41.59.51 0 1.02-.2 1.41-.59l7.78-7.78 2.81-2.81c.8-.78.8-2.07 0-2.86zM5.41 20L4 18.59l7.72-7.72 1.47 1.35L5.41 20z\"/>\n",
              "  </svg>\n",
              "      </button>\n",
              "      \n",
              "  <style>\n",
              "    .colab-df-container {\n",
              "      display:flex;\n",
              "      flex-wrap:wrap;\n",
              "      gap: 12px;\n",
              "    }\n",
              "\n",
              "    .colab-df-convert {\n",
              "      background-color: #E8F0FE;\n",
              "      border: none;\n",
              "      border-radius: 50%;\n",
              "      cursor: pointer;\n",
              "      display: none;\n",
              "      fill: #1967D2;\n",
              "      height: 32px;\n",
              "      padding: 0 0 0 0;\n",
              "      width: 32px;\n",
              "    }\n",
              "\n",
              "    .colab-df-convert:hover {\n",
              "      background-color: #E2EBFA;\n",
              "      box-shadow: 0px 1px 2px rgba(60, 64, 67, 0.3), 0px 1px 3px 1px rgba(60, 64, 67, 0.15);\n",
              "      fill: #174EA6;\n",
              "    }\n",
              "\n",
              "    [theme=dark] .colab-df-convert {\n",
              "      background-color: #3B4455;\n",
              "      fill: #D2E3FC;\n",
              "    }\n",
              "\n",
              "    [theme=dark] .colab-df-convert:hover {\n",
              "      background-color: #434B5C;\n",
              "      box-shadow: 0px 1px 3px 1px rgba(0, 0, 0, 0.15);\n",
              "      filter: drop-shadow(0px 1px 2px rgba(0, 0, 0, 0.3));\n",
              "      fill: #FFFFFF;\n",
              "    }\n",
              "  </style>\n",
              "\n",
              "      <script>\n",
              "        const buttonEl =\n",
              "          document.querySelector('#df-a7ec171b-e098-45a4-9f0e-0ba29820b881 button.colab-df-convert');\n",
              "        buttonEl.style.display =\n",
              "          google.colab.kernel.accessAllowed ? 'block' : 'none';\n",
              "\n",
              "        async function convertToInteractive(key) {\n",
              "          const element = document.querySelector('#df-a7ec171b-e098-45a4-9f0e-0ba29820b881');\n",
              "          const dataTable =\n",
              "            await google.colab.kernel.invokeFunction('convertToInteractive',\n",
              "                                                     [key], {});\n",
              "          if (!dataTable) return;\n",
              "\n",
              "          const docLinkHtml = 'Like what you see? Visit the ' +\n",
              "            '<a target=\"_blank\" href=https://colab.research.google.com/notebooks/data_table.ipynb>data table notebook</a>'\n",
              "            + ' to learn more about interactive tables.';\n",
              "          element.innerHTML = '';\n",
              "          dataTable['output_type'] = 'display_data';\n",
              "          await google.colab.output.renderOutput(dataTable, element);\n",
              "          const docLink = document.createElement('div');\n",
              "          docLink.innerHTML = docLinkHtml;\n",
              "          element.appendChild(docLink);\n",
              "        }\n",
              "      </script>\n",
              "    </div>\n",
              "  </div>\n",
              "  "
            ]
          },
          "metadata": {},
          "execution_count": 8
        }
      ],
      "source": [
        "path = '/content/SkillTreePython-DeepLearning/dataset/iris.csv'\n",
        "dataset = pd.read_csv(path, header = None)\n",
        "print(dataset.shape)\n",
        "dataset"
      ]
    },
    {
      "cell_type": "code",
      "source": [
        "from sklearn.preprocessing import StandardScaler, OneHotEncoder #머신러닝 라이브러리\n",
        "from sklearn.model_selection import train_test_split\n",
        "\n",
        "def path2dataset_iris(path):\n",
        "\n",
        "  # <불러오기>\n",
        "  dataset =  pd.read_csv(path, \n",
        "                       header=None, \n",
        "                       ) # 데이터 형식 : pandas의 데이터프레임\n",
        "  dataset = dataset.values #데이터 형식 : 넘파이 배열로 변환\n",
        "  # <x-y 분할> -> 넘파이 배열을 슬라이싱하는 기법\n",
        "  x = dataset[:, 0:-1]  # ( : 모든행,첫번째 부터 마지막 전까지) * a:b -> a~b까지\n",
        "  y = dataset[:, -1]    # 마지막꺼\n",
        "  #print(x.shape, y.shape)\n",
        "\n",
        "\n",
        "  # <정규화(속셩별로 데이터의 스케일을 조정)> # -x 데이터에만 해준다.\n",
        "  scaler = StandardScaler()\n",
        "  x = scaler.fit_transform(x)\n",
        "  #print(dataset.shape, dataset.dtype) # 데이터 형식 : 넘파이 배열\n",
        "  \n",
        "  # <원핫 인코딩> y{[1,0,0],[0,1,0],[0,0,1]}\n",
        "  onehot = OneHotEncoder(sparse=False)\n",
        "  y = onehot.fit_transform(np.expand_dims(y,1)) #행렬 (샘플개수, 1)\n",
        "  print(onehot.categories_)\n",
        "  \n",
        "\n",
        "  # <**train-test 분할**>\n",
        "  x_train, x_test, y_train, y_test = train_test_split(x,y,test_size=0.3)\n",
        "  return x_train, x_test, y_train, y_test\n",
        "  \n",
        "\n",
        "path = '/content/SkillTreePython-DeepLearning/dataset/iris.csv'\n",
        "x_train, x_test, y_train, y_test = path2dataset_iris(path)\n",
        "print(x_train.shape, x_test.shape, y_train.shape, y_test.shape)\n",
        "print(f'첫번째 샘플 x:{x_train[0]}')\n",
        "print(f'첫번째 샘플 y:{y_train[0]}')"
      ],
      "metadata": {
        "id": "PoXYFIE9_mTS",
        "outputId": "a37d71fb-7794-4477-bf5b-09178f73c2a0",
        "colab": {
          "base_uri": "https://localhost:8080/"
        }
      },
      "execution_count": 11,
      "outputs": [
        {
          "output_type": "stream",
          "name": "stdout",
          "text": [
            "[array(['Iris-setosa', 'Iris-versicolor', 'Iris-virginica'], dtype=object)]\n",
            "(105, 4) (45, 4) (105, 3) (45, 3)\n",
            "첫번째 샘플 x:[ 2.24968346 -1.05056946  1.78634131  1.44795564]\n",
            "첫번째 샘플 y:[0. 0. 1.]\n"
          ]
        }
      ]
    },
    {
      "cell_type": "code",
      "source": [
        "A, B, C 세개의 클래스를 구분하는 문제\n",
        "# 라벨링\n",
        "A -> 0\n",
        "B -> 1\n",
        "C -> 2\n",
        "D -> 3\n",
        "\n",
        "# 원-핫 인코딩\n",
        "A -> [1,0,0,0]\n",
        "B -> [0,1,0,0]\n",
        "C -> [0,0,1,0]\n",
        "D -> [0,0,0,1]"
      ],
      "metadata": {
        "id": "BkDCCMLBgawg"
      },
      "execution_count": null,
      "outputs": []
    },
    {
      "cell_type": "markdown",
      "source": [
        "* 예측값 분포 확인"
      ],
      "metadata": {
        "id": "87SJwUDWglBP"
      }
    },
    {
      "cell_type": "code",
      "source": [
        "sns.countplot(x =dataset[4])"
      ],
      "metadata": {
        "id": "hLNYhitOgf0o",
        "outputId": "12114303-3803-4856-8773-e622d60aac2a",
        "colab": {
          "base_uri": "https://localhost:8080/",
          "height": 296
        }
      },
      "execution_count": 7,
      "outputs": [
        {
          "output_type": "execute_result",
          "data": {
            "text/plain": [
              "<matplotlib.axes._subplots.AxesSubplot at 0x7fa57078d710>"
            ]
          },
          "metadata": {},
          "execution_count": 7
        },
        {
          "output_type": "display_data",
          "data": {
            "text/plain": [
              "<Figure size 432x288 with 1 Axes>"
            ],
            "image/png": "[encoded data removed]"
          },
          "metadata": {
            "needs_background": "light"
          }
        }
      ]
    },
    {
      "cell_type": "markdown",
      "source": [
        "### | 모델\n",
        "\n",
        "\n",
        "<p align='center'>\n",
        "<img src=https://github.com/yebiny/SkillTreePython-DeepLearning/blob/main/imgs/ch0105-02.PNG?raw=true width=800>\n",
        "</p>\n"
      ],
      "metadata": {
        "id": "DHshtWB9r0be"
      }
    },
    {
      "cell_type": "markdown",
      "source": [
        "#### **모델 생성**"
      ],
      "metadata": {
        "id": "J94jFpWyr2k9"
      }
    },
    {
      "cell_type": "code",
      "source": [
        "from tensorflow.keras import models, layers, utils\n",
        "def build_model():\n",
        "   x = layers.Input(shape = (4))\n",
        "   y = layers.Dense(12,activation = 'relu')(x) \n",
        "   y = layers.Dense(8,activation = 'relu')(y) \n",
        "   y = layers.Dense(3, activation = 'softmax')(y) #이진분류 문제의 경우, 마지막 레이어에서 softmax 사용\n",
        "   model = models.Model(x, y)\n",
        "   return model"
      ],
      "metadata": {
        "id": "5BZG1z90rsGc"
      },
      "execution_count": 12,
      "outputs": []
    },
    {
      "cell_type": "markdown",
      "source": [
        "#### **모델 시각화**\n",
        "\n",
        "* `model.summary()`\n",
        "* `utils.plot_model()`"
      ],
      "metadata": {
        "id": "1yqXLbEyx5QK"
      }
    },
    {
      "cell_type": "code",
      "source": [
        "model = build_model()\n",
        "model.summary()"
      ],
      "metadata": {
        "id": "dKCT38Fsr6dF",
        "outputId": "f336f739-fb91-4909-ba2d-9a452dcb152d",
        "colab": {
          "base_uri": "https://localhost:8080/"
        }
      },
      "execution_count": 13,
      "outputs": [
        {
          "output_type": "stream",
          "name": "stdout",
          "text": [
            "Model: \"model\"\n",
            "_________________________________________________________________\n",
            " Layer (type)                Output Shape              Param #   \n",
            "=================================================================\n",
            " input_1 (InputLayer)        [(None, 4)]               0         \n",
            "                                                                 \n",
            " dense (Dense)               (None, 12)                60        \n",
            "                                                                 \n",
            " dense_1 (Dense)             (None, 8)                 104       \n",
            "                                                                 \n",
            " dense_2 (Dense)             (None, 3)                 27        \n",
            "                                                                 \n",
            "=================================================================\n",
            "Total params: 191\n",
            "Trainable params: 191\n",
            "Non-trainable params: 0\n",
            "_________________________________________________________________\n"
          ]
        }
      ]
    },
    {
      "cell_type": "markdown",
      "source": [
        "### | 학습"
      ],
      "metadata": {
        "id": "gLuvsUFmwzPa"
      }
    },
    {
      "cell_type": "markdown",
      "source": [
        "#### **모델 컴파일**\n",
        "\n",
        "```\n",
        "model.compile(loss, optimizer, metrics) \n",
        "```\n",
        "* `loss` : 분류 문제는 기본적으로 crossentroty\n",
        "    * 이진분류 : binary_crossentropy\n",
        "    * 다중분류 : categorical_\n",
        "* `optimizer` : \n",
        "* `metrics`: \n"
      ],
      "metadata": {
        "id": "fwQboNHp3EHe"
      }
    },
    {
      "cell_type": "code",
      "source": [
        "model.compile(loss = 'categorical_crossentropy',\n",
        "              optimizer ='adam',\n",
        "              metrics = 'accuracy') "
      ],
      "metadata": {
        "id": "SASPIskxgfRY"
      },
      "execution_count": 17,
      "outputs": []
    },
    {
      "cell_type": "markdown",
      "source": [
        "#### **학습**\n",
        "\n",
        "```\n",
        "model.fit(x_train, y_train, epochs, batch_size)\n",
        "```\n",
        "* `x_train` : 넘파이 혹은 텐서 형식의 인풋 데이터\n",
        "* `y_train` : 넘파이 혹은 텐서 형식의 아웃풋 데이터\n",
        "* `epochs` : 학습 횟수\n",
        "* `batch_size` : 배치 사이즈 ((업데이트 한번에 사용될 샘플 개수)"
      ],
      "metadata": {
        "id": "JukUpWB4gfRY"
      }
    },
    {
      "cell_type": "code",
      "source": [
        "model.fit(x_train, y_train, epochs = 100, batch_size =10)"
      ],
      "metadata": {
        "id": "9bgbpUhogfRY",
        "outputId": "b7ba3136-5434-4842-beb1-4a81f7866e6a",
        "colab": {
          "base_uri": "https://localhost:8080/"
        }
      },
      "execution_count": 19,
      "outputs": [
        {
          "output_type": "stream",
          "name": "stdout",
          "text": [
            "Epoch 1/100\n",
            "11/11 [==============================] - 0s 4ms/step - loss: 0.2748 - accuracy: 0.9048\n",
            "Epoch 2/100\n",
            "11/11 [==============================] - 0s 4ms/step - loss: 0.2662 - accuracy: 0.9048\n",
            "Epoch 3/100\n",
            "11/11 [==============================] - 0s 3ms/step - loss: 0.2582 - accuracy: 0.9143\n",
            "Epoch 4/100\n",
            "11/11 [==============================] - 0s 3ms/step - loss: 0.2509 - accuracy: 0.9143\n",
            "Epoch 5/100\n",
            "11/11 [==============================] - 0s 4ms/step - loss: 0.2429 - accuracy: 0.9238\n",
            "Epoch 6/100\n",
            "11/11 [==============================] - 0s 4ms/step - loss: 0.2338 - accuracy: 0.9238\n",
            "Epoch 7/100\n",
            "11/11 [==============================] - 0s 4ms/step - loss: 0.2252 - accuracy: 0.9333\n",
            "Epoch 8/100\n",
            "11/11 [==============================] - 0s 4ms/step - loss: 0.2168 - accuracy: 0.9333\n",
            "Epoch 9/100\n",
            "11/11 [==============================] - 0s 4ms/step - loss: 0.2088 - accuracy: 0.9429\n",
            "Epoch 10/100\n",
            "11/11 [==============================] - 0s 5ms/step - loss: 0.2011 - accuracy: 0.9333\n",
            "Epoch 11/100\n",
            "11/11 [==============================] - 0s 4ms/step - loss: 0.1944 - accuracy: 0.9333\n",
            "Epoch 12/100\n",
            "11/11 [==============================] - 0s 4ms/step - loss: 0.1865 - accuracy: 0.9333\n",
            "Epoch 13/100\n",
            "11/11 [==============================] - 0s 4ms/step - loss: 0.1807 - accuracy: 0.9333\n",
            "Epoch 14/100\n",
            "11/11 [==============================] - 0s 4ms/step - loss: 0.1741 - accuracy: 0.9333\n",
            "Epoch 15/100\n",
            "11/11 [==============================] - 0s 4ms/step - loss: 0.1688 - accuracy: 0.9524\n",
            "Epoch 16/100\n",
            "11/11 [==============================] - 0s 4ms/step - loss: 0.1631 - accuracy: 0.9524\n",
            "Epoch 17/100\n",
            "11/11 [==============================] - 0s 3ms/step - loss: 0.1584 - accuracy: 0.9619\n",
            "Epoch 18/100\n",
            "11/11 [==============================] - 0s 3ms/step - loss: 0.1527 - accuracy: 0.9619\n",
            "Epoch 19/100\n",
            "11/11 [==============================] - 0s 3ms/step - loss: 0.1488 - accuracy: 0.9619\n",
            "Epoch 20/100\n",
            "11/11 [==============================] - 0s 3ms/step - loss: 0.1429 - accuracy: 0.9619\n",
            "Epoch 21/100\n",
            "11/11 [==============================] - 0s 3ms/step - loss: 0.1378 - accuracy: 0.9619\n",
            "Epoch 22/100\n",
            "11/11 [==============================] - 0s 3ms/step - loss: 0.1330 - accuracy: 0.9619\n",
            "Epoch 23/100\n",
            "11/11 [==============================] - 0s 3ms/step - loss: 0.1291 - accuracy: 0.9619\n",
            "Epoch 24/100\n",
            "11/11 [==============================] - 0s 3ms/step - loss: 0.1248 - accuracy: 0.9619\n",
            "Epoch 25/100\n",
            "11/11 [==============================] - 0s 3ms/step - loss: 0.1208 - accuracy: 0.9619\n",
            "Epoch 26/100\n",
            "11/11 [==============================] - 0s 3ms/step - loss: 0.1186 - accuracy: 0.9619\n",
            "Epoch 27/100\n",
            "11/11 [==============================] - 0s 3ms/step - loss: 0.1154 - accuracy: 0.9619\n",
            "Epoch 28/100\n",
            "11/11 [==============================] - 0s 3ms/step - loss: 0.1125 - accuracy: 0.9619\n",
            "Epoch 29/100\n",
            "11/11 [==============================] - 0s 3ms/step - loss: 0.1121 - accuracy: 0.9619\n",
            "Epoch 30/100\n",
            "11/11 [==============================] - 0s 3ms/step - loss: 0.1094 - accuracy: 0.9619\n",
            "Epoch 31/100\n",
            "11/11 [==============================] - 0s 3ms/step - loss: 0.1075 - accuracy: 0.9619\n",
            "Epoch 32/100\n",
            "11/11 [==============================] - 0s 3ms/step - loss: 0.1052 - accuracy: 0.9619\n",
            "Epoch 33/100\n",
            "11/11 [==============================] - 0s 3ms/step - loss: 0.1035 - accuracy: 0.9619\n",
            "Epoch 34/100\n",
            "11/11 [==============================] - 0s 3ms/step - loss: 0.1019 - accuracy: 0.9619\n",
            "Epoch 35/100\n",
            "11/11 [==============================] - 0s 3ms/step - loss: 0.1004 - accuracy: 0.9619\n",
            "Epoch 36/100\n",
            "11/11 [==============================] - 0s 3ms/step - loss: 0.0998 - accuracy: 0.9619\n",
            "Epoch 37/100\n",
            "11/11 [==============================] - 0s 3ms/step - loss: 0.0989 - accuracy: 0.9619\n",
            "Epoch 38/100\n",
            "11/11 [==============================] - 0s 3ms/step - loss: 0.0965 - accuracy: 0.9619\n",
            "Epoch 39/100\n",
            "11/11 [==============================] - 0s 3ms/step - loss: 0.0959 - accuracy: 0.9619\n",
            "Epoch 40/100\n",
            "11/11 [==============================] - 0s 3ms/step - loss: 0.0953 - accuracy: 0.9619\n",
            "Epoch 41/100\n",
            "11/11 [==============================] - 0s 3ms/step - loss: 0.0932 - accuracy: 0.9619\n",
            "Epoch 42/100\n",
            "11/11 [==============================] - 0s 3ms/step - loss: 0.0924 - accuracy: 0.9619\n",
            "Epoch 43/100\n",
            "11/11 [==============================] - 0s 3ms/step - loss: 0.0917 - accuracy: 0.9619\n",
            "Epoch 44/100\n",
            "11/11 [==============================] - 0s 4ms/step - loss: 0.0907 - accuracy: 0.9619\n",
            "Epoch 45/100\n",
            "11/11 [==============================] - 0s 3ms/step - loss: 0.0899 - accuracy: 0.9619\n",
            "Epoch 46/100\n",
            "11/11 [==============================] - 0s 3ms/step - loss: 0.0890 - accuracy: 0.9619\n",
            "Epoch 47/100\n",
            "11/11 [==============================] - 0s 3ms/step - loss: 0.0885 - accuracy: 0.9619\n",
            "Epoch 48/100\n",
            "11/11 [==============================] - 0s 3ms/step - loss: 0.0877 - accuracy: 0.9619\n",
            "Epoch 49/100\n",
            "11/11 [==============================] - 0s 3ms/step - loss: 0.0874 - accuracy: 0.9619\n",
            "Epoch 50/100\n",
            "11/11 [==============================] - 0s 3ms/step - loss: 0.0869 - accuracy: 0.9619\n",
            "Epoch 51/100\n",
            "11/11 [==============================] - 0s 3ms/step - loss: 0.0859 - accuracy: 0.9619\n",
            "Epoch 52/100\n",
            "11/11 [==============================] - 0s 3ms/step - loss: 0.0851 - accuracy: 0.9619\n",
            "Epoch 53/100\n",
            "11/11 [==============================] - 0s 3ms/step - loss: 0.0846 - accuracy: 0.9619\n",
            "Epoch 54/100\n",
            "11/11 [==============================] - 0s 3ms/step - loss: 0.0846 - accuracy: 0.9619\n",
            "Epoch 55/100\n",
            "11/11 [==============================] - 0s 3ms/step - loss: 0.0839 - accuracy: 0.9619\n",
            "Epoch 56/100\n",
            "11/11 [==============================] - 0s 3ms/step - loss: 0.0825 - accuracy: 0.9619\n",
            "Epoch 57/100\n",
            "11/11 [==============================] - 0s 3ms/step - loss: 0.0820 - accuracy: 0.9619\n",
            "Epoch 58/100\n",
            "11/11 [==============================] - 0s 3ms/step - loss: 0.0819 - accuracy: 0.9619\n",
            "Epoch 59/100\n",
            "11/11 [==============================] - 0s 3ms/step - loss: 0.0809 - accuracy: 0.9619\n",
            "Epoch 60/100\n",
            "11/11 [==============================] - 0s 3ms/step - loss: 0.0807 - accuracy: 0.9714\n",
            "Epoch 61/100\n",
            "11/11 [==============================] - 0s 3ms/step - loss: 0.0799 - accuracy: 0.9714\n",
            "Epoch 62/100\n",
            "11/11 [==============================] - 0s 3ms/step - loss: 0.0797 - accuracy: 0.9619\n",
            "Epoch 63/100\n",
            "11/11 [==============================] - 0s 3ms/step - loss: 0.0797 - accuracy: 0.9619\n",
            "Epoch 64/100\n",
            "11/11 [==============================] - 0s 3ms/step - loss: 0.0781 - accuracy: 0.9619\n",
            "Epoch 65/100\n",
            "11/11 [==============================] - 0s 3ms/step - loss: 0.0780 - accuracy: 0.9619\n",
            "Epoch 66/100\n",
            "11/11 [==============================] - 0s 3ms/step - loss: 0.0778 - accuracy: 0.9619\n",
            "Epoch 67/100\n",
            "11/11 [==============================] - 0s 3ms/step - loss: 0.0770 - accuracy: 0.9619\n",
            "Epoch 68/100\n",
            "11/11 [==============================] - 0s 4ms/step - loss: 0.0786 - accuracy: 0.9619\n",
            "Epoch 69/100\n",
            "11/11 [==============================] - 0s 3ms/step - loss: 0.0765 - accuracy: 0.9619\n",
            "Epoch 70/100\n",
            "11/11 [==============================] - 0s 3ms/step - loss: 0.0755 - accuracy: 0.9619\n",
            "Epoch 71/100\n",
            "11/11 [==============================] - 0s 3ms/step - loss: 0.0747 - accuracy: 0.9619\n",
            "Epoch 72/100\n",
            "11/11 [==============================] - 0s 3ms/step - loss: 0.0746 - accuracy: 0.9619\n",
            "Epoch 73/100\n",
            "11/11 [==============================] - 0s 3ms/step - loss: 0.0734 - accuracy: 0.9714\n",
            "Epoch 74/100\n",
            "11/11 [==============================] - 0s 3ms/step - loss: 0.0737 - accuracy: 0.9714\n",
            "Epoch 75/100\n",
            "11/11 [==============================] - 0s 3ms/step - loss: 0.0734 - accuracy: 0.9714\n",
            "Epoch 76/100\n",
            "11/11 [==============================] - 0s 3ms/step - loss: 0.0727 - accuracy: 0.9714\n",
            "Epoch 77/100\n",
            "11/11 [==============================] - 0s 3ms/step - loss: 0.0720 - accuracy: 0.9714\n",
            "Epoch 78/100\n",
            "11/11 [==============================] - 0s 3ms/step - loss: 0.0720 - accuracy: 0.9714\n",
            "Epoch 79/100\n",
            "11/11 [==============================] - 0s 3ms/step - loss: 0.0720 - accuracy: 0.9714\n",
            "Epoch 80/100\n",
            "11/11 [==============================] - 0s 3ms/step - loss: 0.0708 - accuracy: 0.9714\n",
            "Epoch 81/100\n",
            "11/11 [==============================] - 0s 2ms/step - loss: 0.0715 - accuracy: 0.9714\n",
            "Epoch 82/100\n",
            "11/11 [==============================] - 0s 3ms/step - loss: 0.0708 - accuracy: 0.9714\n",
            "Epoch 83/100\n",
            "11/11 [==============================] - 0s 3ms/step - loss: 0.0708 - accuracy: 0.9714\n",
            "Epoch 84/100\n",
            "11/11 [==============================] - 0s 2ms/step - loss: 0.0700 - accuracy: 0.9714\n",
            "Epoch 85/100\n",
            "11/11 [==============================] - 0s 3ms/step - loss: 0.0690 - accuracy: 0.9714\n",
            "Epoch 86/100\n",
            "11/11 [==============================] - 0s 3ms/step - loss: 0.0692 - accuracy: 0.9714\n",
            "Epoch 87/100\n",
            "11/11 [==============================] - 0s 3ms/step - loss: 0.0686 - accuracy: 0.9714\n",
            "Epoch 88/100\n",
            "11/11 [==============================] - 0s 3ms/step - loss: 0.0680 - accuracy: 0.9714\n",
            "Epoch 89/100\n",
            "11/11 [==============================] - 0s 3ms/step - loss: 0.0682 - accuracy: 0.9714\n",
            "Epoch 90/100\n",
            "11/11 [==============================] - 0s 2ms/step - loss: 0.0679 - accuracy: 0.9714\n",
            "Epoch 91/100\n",
            "11/11 [==============================] - 0s 3ms/step - loss: 0.0674 - accuracy: 0.9714\n",
            "Epoch 92/100\n",
            "11/11 [==============================] - 0s 3ms/step - loss: 0.0685 - accuracy: 0.9714\n",
            "Epoch 93/100\n",
            "11/11 [==============================] - 0s 3ms/step - loss: 0.0674 - accuracy: 0.9714\n",
            "Epoch 94/100\n",
            "11/11 [==============================] - 0s 3ms/step - loss: 0.0667 - accuracy: 0.9714\n",
            "Epoch 95/100\n",
            "11/11 [==============================] - 0s 3ms/step - loss: 0.0664 - accuracy: 0.9714\n",
            "Epoch 96/100\n",
            "11/11 [==============================] - 0s 3ms/step - loss: 0.0657 - accuracy: 0.9714\n",
            "Epoch 97/100\n",
            "11/11 [==============================] - 0s 3ms/step - loss: 0.0653 - accuracy: 0.9714\n",
            "Epoch 98/100\n",
            "11/11 [==============================] - 0s 3ms/step - loss: 0.0653 - accuracy: 0.9714\n",
            "Epoch 99/100\n",
            "11/11 [==============================] - 0s 3ms/step - loss: 0.0644 - accuracy: 0.9714\n",
            "Epoch 100/100\n",
            "11/11 [==============================] - 0s 3ms/step - loss: 0.0651 - accuracy: 0.9714\n"
          ]
        },
        {
          "output_type": "execute_result",
          "data": {
            "text/plain": [
              "<keras.callbacks.History at 0x7fa5601307d0>"
            ]
          },
          "metadata": {},
          "execution_count": 19
        }
      ]
    },
    {
      "cell_type": "markdown",
      "source": [
        "### | 검증 및 예측\n"
      ],
      "metadata": {
        "id": "DyFOnqyNw5_q"
      }
    },
    {
      "cell_type": "markdown",
      "source": [
        "#### **검증**\n",
        "\n",
        "```\n",
        "model.evaluate(x_test, y_test)\n",
        "```\n",
        "* `x_test` : 넘파이 혹은 텐서 형식의 인풋 테스트 데이터\n",
        "* `y_test` : 넘파이 혹은 텐서 형식의 아웃풋 테스트 데이터"
      ],
      "metadata": {
        "id": "qlalKZ-a04c3"
      }
    },
    {
      "cell_type": "code",
      "source": [
        "model.evaluate(x_test, y_test)"
      ],
      "metadata": {
        "id": "uHGyMlf60zng",
        "outputId": "fe876ebf-db93-4344-ab3b-002c759f9ff6",
        "colab": {
          "base_uri": "https://localhost:8080/"
        }
      },
      "execution_count": 20,
      "outputs": [
        {
          "output_type": "stream",
          "name": "stdout",
          "text": [
            "2/2 [==============================] - 0s 8ms/step - loss: 0.0871 - accuracy: 0.9556\n"
          ]
        },
        {
          "output_type": "execute_result",
          "data": {
            "text/plain": [
              "[0.08708753436803818, 0.9555555582046509]"
            ]
          },
          "metadata": {},
          "execution_count": 20
        }
      ]
    },
    {
      "cell_type": "markdown",
      "source": [
        "#### **예측**\n",
        "\n",
        "```\n",
        "model.predict(x_test)\n",
        "```\n",
        "* `x_test` : 넘파이 혹은 텐서 형식의 인풋 테스트 데이터\n",
        "* `y_test` : 넘파이 혹은 텐서 형식의 아웃풋 테스트 데이터"
      ],
      "metadata": {
        "id": "BITPUIOj07Uv"
      }
    },
    {
      "cell_type": "code",
      "source": [
        "y_pred = model.predict(x_test)\n",
        "print(y_test.shape, y_pred.shape)\n",
        "\n",
        "y_test_argmax = np.argmax(y_test, axis=1) #세개 클래스 중 가장 큰 값 인덱스\n",
        "y_pred_argmax = np.argmax(y_pred, axis=1)\n",
        "\n",
        "for i in range(10):\n",
        "  print(f'실제y: {y_test[i]}={y_test_argmax[i]}, 예측y : {y_pred_argmax[i]}')"
      ],
      "metadata": {
        "id": "KfDHL4PRv8YD",
        "outputId": "b4741bbe-5fa2-4135-9096-2cc9740e19f0",
        "colab": {
          "base_uri": "https://localhost:8080/"
        }
      },
      "execution_count": 32,
      "outputs": [
        {
          "output_type": "stream",
          "name": "stdout",
          "text": [
            "(45, 3) (45, 3)\n",
            "실제y: [1. 0. 0.]=0, 예측y : 0\n",
            "실제y: [0. 1. 0.]=1, 예측y : 1\n",
            "실제y: [0. 1. 0.]=1, 예측y : 1\n",
            "실제y: [1. 0. 0.]=0, 예측y : 0\n",
            "실제y: [0. 0. 1.]=2, 예측y : 2\n",
            "실제y: [0. 1. 0.]=1, 예측y : 1\n",
            "실제y: [0. 0. 1.]=2, 예측y : 2\n",
            "실제y: [1. 0. 0.]=0, 예측y : 0\n",
            "실제y: [1. 0. 0.]=0, 예측y : 0\n",
            "실제y: [0. 0. 1.]=2, 예측y : 2\n"
          ]
        }
      ]
    },
    {
      "cell_type": "markdown",
      "source": [
        "* 예측 시각화"
      ],
      "metadata": {
        "id": "gThN4RCR0_HI"
      }
    },
    {
      "cell_type": "code",
      "source": [
        "from sklearn.metrics import confusion_matrix, ConfusionMatrixDisplay\n",
        "\n",
        "cm = confusion_matrix(y_test_argmax,y_pred_argmax)\n",
        "print(cm)\n",
        "ConfusionMatrixDisplay(cm).plot(cmap= 'Blues')"
      ],
      "metadata": {
        "id": "TG533VyLwDaK",
        "outputId": "5052d618-b5be-44b0-bd8f-da39d533195b",
        "colab": {
          "base_uri": "https://localhost:8080/",
          "height": 348
        }
      },
      "execution_count": 33,
      "outputs": [
        {
          "output_type": "stream",
          "name": "stdout",
          "text": [
            "[[14  0  0]\n",
            " [ 0 17  1]\n",
            " [ 0  1 12]]\n"
          ]
        },
        {
          "output_type": "execute_result",
          "data": {
            "text/plain": [
              "<sklearn.metrics._plot.confusion_matrix.ConfusionMatrixDisplay at 0x7fa4f2159ed0>"
            ]
          },
          "metadata": {},
          "execution_count": 33
        },
        {
          "output_type": "display_data",
          "data": {
            "text/plain": [
              "<Figure size 432x288 with 2 Axes>"
            ],
            "image/png": "[encoded data removed]"
          },
          "metadata": {
            "needs_background": "light"
          }
        }
      ]
    },
    {
      "cell_type": "markdown",
      "source": [
        "## 과제\n",
        "---"
      ],
      "metadata": {
        "id": "ZFrRTgcyipYg"
      }
    },
    {
      "cell_type": "markdown",
      "source": [
        "### | 과제1. 이진분류 문제 정리\n",
        "\n",
        "* 예측값의 범위 :0~1\n",
        "* 예측값의 shape : (샘플수, 클래스의 개수)\n",
        "* 아웃풋 레이어의 노드 개수 :  3\n",
        "* 아웃풋 레이어의 activation : softmax\n",
        "* 손실함수 (loss) : categorical_crossentropy\n",
        "* 평가함수 (metrics) : accuracy(정확도)"
      ],
      "metadata": {
        "id": "xjnJSLgXK_Pp"
      }
    },
    {
      "cell_type": "markdown",
      "source": [
        "### | 과제2. 한 셀에 코드 정리하기\n",
        "\n",
        "* 추가 연습\n",
        "  * 모델의 깊이(depth)를 늘려가며 학습해 보세요.\n",
        "  * 모델의 너비(width)를 늘려가며 학습해 보세요."
      ],
      "metadata": {
        "id": "ZvFAB78P1B_Q"
      }
    },
    {
      "cell_type": "code",
      "source": [
        "from sklearn.preprocessing import StandardScaler, OneHotEncoder #머신러닝 라이브러리\n",
        "from sklearn.model_selection import train_test_split\n",
        "from tensorflow.keras import models, layers, utils\n",
        "\n",
        "def path2dataset_iris(path):\n",
        "\n",
        "  # <불러오기>\n",
        "  dataset =  pd.read_csv(path, \n",
        "                       header=None, \n",
        "                       ) # 데이터 형식 : pandas의 데이터프레임\n",
        "  dataset = dataset.values #데이터 형식 : 넘파이 배열로 변환\n",
        "  # <x-y 분할> -> 넘파이 배열을 슬라이싱하는 기법\n",
        "  x = dataset[:, 0:-1]  # ( : 모든행,첫번째 부터 마지막 전까지) * a:b -> a~b까지\n",
        "  y = dataset[:, -1]    # 마지막꺼\n",
        "  #print(x.shape, y.shape)\n",
        "\n",
        "\n",
        "  # <정규화(속셩별로 데이터의 스케일을 조정)> # -x 데이터에만 해준다.\n",
        "  scaler = StandardScaler()\n",
        "  x = scaler.fit_transform(x)\n",
        "  #print(dataset.shape, dataset.dtype) # 데이터 형식 : 넘파이 배열\n",
        "  \n",
        "  # <원핫 인코딩> y{[1,0,0],[0,1,0],[0,0,1]}\n",
        "  onehot = OneHotEncoder(sparse=False)\n",
        "  y = onehot.fit_transform(np.expand_dims(y,1)) #행렬 (샘플개수, 1)\n",
        "  print(onehot.categories_)\n",
        "  \n",
        "\n",
        "  # <**train-test 분할**>\n",
        "  x_train, x_test, y_train, y_test = train_test_split(x,y,test_size=0.3)\n",
        "  return x_train, x_test, y_train, y_test\n",
        "  \n",
        "\n",
        "path = '/content/SkillTreePython-DeepLearning/dataset/iris.csv'\n",
        "x_train, x_test, y_train, y_test = path2dataset_iris(path)\n",
        "print(x_train.shape, x_test.shape, y_train.shape, y_test.shape)\n",
        "print(f'첫번째 샘플 x:{x_train[0]}')\n",
        "print(f'첫번째 샘플 y:{y_train[0]}')\n",
        "\n",
        "def build_model():\n",
        "   x = layers.Input(shape = (4))\n",
        "   y = layers.Dense(50,activation = 'relu')(x) \n",
        "   y = layers.Dense(40,activation = 'relu')(y)\n",
        "   y = layers.Dense(30,activation = 'relu')(y) \n",
        "   y = layers.Dense(3, activation = 'softmax')(y) #이진분류 문제의 경우, 마지막 레이어에서 softmax 사용\n",
        "   model = models.Model(x, y)\n",
        "   return model\n",
        "\n",
        "model = build_model()\n",
        "model.summary()\n",
        "\n",
        "model.compile(loss = 'categorical_crossentropy',\n",
        "              optimizer ='adam',\n",
        "              metrics = 'accuracy') \n",
        "\n",
        "model.fit(x_train, y_train, epochs = 100, batch_size =10)\n",
        "\n",
        "model.evaluate(x_test, y_test)\n",
        "\n",
        "y_pred = model.predict(x_test)\n",
        "print(y_test.shape, y_pred.shape)\n",
        "\n",
        "y_test_argmax = np.argmax(y_test, axis=1) #세개 클래스 중 가장 큰 값 인덱스\n",
        "y_pred_argmax = np.argmax(y_pred, axis=1)\n",
        "\n",
        "for i in range(10):\n",
        "  print(f'실제y: {y_test[i]}={y_test_argmax[i]}, 예측y : {y_pred_argmax[i]}')\n",
        "\n",
        "\n",
        "from sklearn.metrics import confusion_matrix, ConfusionMatrixDisplay\n",
        "\n",
        "cm = confusion_matrix(y_test_argmax,y_pred_argmax)\n",
        "print(cm)\n",
        "ConfusionMatrixDisplay(cm).plot(cmap= 'Reds')"
      ],
      "metadata": {
        "id": "v5WYSd9a1Cz4",
        "outputId": "04e09b8b-b8a2-49a2-d434-904f53857841",
        "colab": {
          "base_uri": "https://localhost:8080/",
          "height": 1000
        }
      },
      "execution_count": 35,
      "outputs": [
        {
          "output_type": "stream",
          "name": "stdout",
          "text": [
            "[array(['Iris-setosa', 'Iris-versicolor', 'Iris-virginica'], dtype=object)]\n",
            "(105, 4) (45, 4) (105, 3) (45, 3)\n",
            "첫번째 샘플 x:[-1.02184904  0.80065426 -1.2844067  -1.31297673]\n",
            "첫번째 샘플 y:[1. 0. 0.]\n",
            "Model: \"model_2\"\n",
            "_________________________________________________________________\n",
            " Layer (type)                Output Shape              Param #   \n",
            "=================================================================\n",
            " input_3 (InputLayer)        [(None, 4)]               0         \n",
            "                                                                 \n",
            " dense_7 (Dense)             (None, 50)                250       \n",
            "                                                                 \n",
            " dense_8 (Dense)             (None, 40)                2040      \n",
            "                                                                 \n",
            " dense_9 (Dense)             (None, 30)                1230      \n",
            "                                                                 \n",
            " dense_10 (Dense)            (None, 3)                 93        \n",
            "                                                                 \n",
            "=================================================================\n",
            "Total params: 3,613\n",
            "Trainable params: 3,613\n",
            "Non-trainable params: 0\n",
            "_________________________________________________________________\n",
            "Epoch 1/100\n",
            "11/11 [==============================] - 1s 4ms/step - loss: 1.0988 - accuracy: 0.3810\n",
            "Epoch 2/100\n",
            "11/11 [==============================] - 0s 5ms/step - loss: 0.8906 - accuracy: 0.8095\n",
            "Epoch 3/100\n",
            "11/11 [==============================] - 0s 6ms/step - loss: 0.7261 - accuracy: 0.8190\n",
            "Epoch 4/100\n",
            "11/11 [==============================] - 0s 3ms/step - loss: 0.5968 - accuracy: 0.8190\n",
            "Epoch 5/100\n",
            "11/11 [==============================] - 0s 3ms/step - loss: 0.4965 - accuracy: 0.8286\n",
            "Epoch 6/100\n",
            "11/11 [==============================] - 0s 3ms/step - loss: 0.4276 - accuracy: 0.8286\n",
            "Epoch 7/100\n",
            "11/11 [==============================] - 0s 3ms/step - loss: 0.3817 - accuracy: 0.8476\n",
            "Epoch 8/100\n",
            "11/11 [==============================] - 0s 3ms/step - loss: 0.3387 - accuracy: 0.8571\n",
            "Epoch 9/100\n",
            "11/11 [==============================] - 0s 3ms/step - loss: 0.3109 - accuracy: 0.8571\n",
            "Epoch 10/100\n",
            "11/11 [==============================] - 0s 3ms/step - loss: 0.2880 - accuracy: 0.8667\n",
            "Epoch 11/100\n",
            "11/11 [==============================] - 0s 3ms/step - loss: 0.2746 - accuracy: 0.8952\n",
            "Epoch 12/100\n",
            "11/11 [==============================] - 0s 3ms/step - loss: 0.2530 - accuracy: 0.8762\n",
            "Epoch 13/100\n",
            "11/11 [==============================] - 0s 3ms/step - loss: 0.2358 - accuracy: 0.8857\n",
            "Epoch 14/100\n",
            "11/11 [==============================] - 0s 3ms/step - loss: 0.2166 - accuracy: 0.9048\n",
            "Epoch 15/100\n",
            "11/11 [==============================] - 0s 3ms/step - loss: 0.2072 - accuracy: 0.9143\n",
            "Epoch 16/100\n",
            "11/11 [==============================] - 0s 3ms/step - loss: 0.1832 - accuracy: 0.9143\n",
            "Epoch 17/100\n",
            "11/11 [==============================] - 0s 3ms/step - loss: 0.1731 - accuracy: 0.9238\n",
            "Epoch 18/100\n",
            "11/11 [==============================] - 0s 4ms/step - loss: 0.1751 - accuracy: 0.9524\n",
            "Epoch 19/100\n",
            "11/11 [==============================] - 0s 3ms/step - loss: 0.1632 - accuracy: 0.9524\n",
            "Epoch 20/100\n",
            "11/11 [==============================] - 0s 3ms/step - loss: 0.1421 - accuracy: 0.9429\n",
            "Epoch 21/100\n",
            "11/11 [==============================] - 0s 3ms/step - loss: 0.1327 - accuracy: 0.9524\n",
            "Epoch 22/100\n",
            "11/11 [==============================] - 0s 3ms/step - loss: 0.1259 - accuracy: 0.9619\n",
            "Epoch 23/100\n",
            "11/11 [==============================] - 0s 3ms/step - loss: 0.1166 - accuracy: 0.9619\n",
            "Epoch 24/100\n",
            "11/11 [==============================] - 0s 3ms/step - loss: 0.1055 - accuracy: 0.9619\n",
            "Epoch 25/100\n",
            "11/11 [==============================] - 0s 3ms/step - loss: 0.1012 - accuracy: 0.9619\n",
            "Epoch 26/100\n",
            "11/11 [==============================] - 0s 3ms/step - loss: 0.1070 - accuracy: 0.9524\n",
            "Epoch 27/100\n",
            "11/11 [==============================] - 0s 3ms/step - loss: 0.1014 - accuracy: 0.9524\n",
            "Epoch 28/100\n",
            "11/11 [==============================] - 0s 3ms/step - loss: 0.0916 - accuracy: 0.9714\n",
            "Epoch 29/100\n",
            "11/11 [==============================] - 0s 3ms/step - loss: 0.0833 - accuracy: 0.9810\n",
            "Epoch 30/100\n",
            "11/11 [==============================] - 0s 3ms/step - loss: 0.0778 - accuracy: 0.9810\n",
            "Epoch 31/100\n",
            "11/11 [==============================] - 0s 3ms/step - loss: 0.0781 - accuracy: 0.9714\n",
            "Epoch 32/100\n",
            "11/11 [==============================] - 0s 3ms/step - loss: 0.0694 - accuracy: 0.9714\n",
            "Epoch 33/100\n",
            "11/11 [==============================] - 0s 3ms/step - loss: 0.0703 - accuracy: 0.9905\n",
            "Epoch 34/100\n",
            "11/11 [==============================] - 0s 3ms/step - loss: 0.0653 - accuracy: 0.9905\n",
            "Epoch 35/100\n",
            "11/11 [==============================] - 0s 3ms/step - loss: 0.0613 - accuracy: 0.9810\n",
            "Epoch 36/100\n",
            "11/11 [==============================] - 0s 3ms/step - loss: 0.0613 - accuracy: 0.9905\n",
            "Epoch 37/100\n",
            "11/11 [==============================] - 0s 3ms/step - loss: 0.0567 - accuracy: 0.9905\n",
            "Epoch 38/100\n",
            "11/11 [==============================] - 0s 3ms/step - loss: 0.0556 - accuracy: 0.9905\n",
            "Epoch 39/100\n",
            "11/11 [==============================] - 0s 3ms/step - loss: 0.0537 - accuracy: 0.9905\n",
            "Epoch 40/100\n",
            "11/11 [==============================] - 0s 3ms/step - loss: 0.0567 - accuracy: 0.9714\n",
            "Epoch 41/100\n",
            "11/11 [==============================] - 0s 3ms/step - loss: 0.0501 - accuracy: 0.9905\n",
            "Epoch 42/100\n",
            "11/11 [==============================] - 0s 3ms/step - loss: 0.0504 - accuracy: 0.9905\n",
            "Epoch 43/100\n",
            "11/11 [==============================] - 0s 3ms/step - loss: 0.0492 - accuracy: 0.9905\n",
            "Epoch 44/100\n",
            "11/11 [==============================] - 0s 3ms/step - loss: 0.0470 - accuracy: 0.9905\n",
            "Epoch 45/100\n",
            "11/11 [==============================] - 0s 3ms/step - loss: 0.0458 - accuracy: 0.9905\n",
            "Epoch 46/100\n",
            "11/11 [==============================] - 0s 3ms/step - loss: 0.0483 - accuracy: 0.9810\n",
            "Epoch 47/100\n",
            "11/11 [==============================] - 0s 3ms/step - loss: 0.0451 - accuracy: 0.9810\n",
            "Epoch 48/100\n",
            "11/11 [==============================] - 0s 3ms/step - loss: 0.0440 - accuracy: 0.9905\n",
            "Epoch 49/100\n",
            "11/11 [==============================] - 0s 3ms/step - loss: 0.0427 - accuracy: 0.9905\n",
            "Epoch 50/100\n",
            "11/11 [==============================] - 0s 3ms/step - loss: 0.0438 - accuracy: 0.9905\n",
            "Epoch 51/100\n",
            "11/11 [==============================] - 0s 3ms/step - loss: 0.0409 - accuracy: 0.9905\n",
            "Epoch 52/100\n",
            "11/11 [==============================] - 0s 3ms/step - loss: 0.0441 - accuracy: 0.9905\n",
            "Epoch 53/100\n",
            "11/11 [==============================] - 0s 3ms/step - loss: 0.0411 - accuracy: 0.9905\n",
            "Epoch 54/100\n",
            "11/11 [==============================] - 0s 3ms/step - loss: 0.0389 - accuracy: 0.9905\n",
            "Epoch 55/100\n",
            "11/11 [==============================] - 0s 3ms/step - loss: 0.0412 - accuracy: 0.9905\n",
            "Epoch 56/100\n",
            "11/11 [==============================] - 0s 3ms/step - loss: 0.0523 - accuracy: 0.9714\n",
            "Epoch 57/100\n",
            "11/11 [==============================] - 0s 3ms/step - loss: 0.0369 - accuracy: 0.9905\n",
            "Epoch 58/100\n",
            "11/11 [==============================] - 0s 3ms/step - loss: 0.0402 - accuracy: 0.9905\n",
            "Epoch 59/100\n",
            "11/11 [==============================] - 0s 3ms/step - loss: 0.0358 - accuracy: 0.9905\n",
            "Epoch 60/100\n",
            "11/11 [==============================] - 0s 3ms/step - loss: 0.0433 - accuracy: 0.9905\n",
            "Epoch 61/100\n",
            "11/11 [==============================] - 0s 3ms/step - loss: 0.0403 - accuracy: 0.9905\n",
            "Epoch 62/100\n",
            "11/11 [==============================] - 0s 3ms/step - loss: 0.0370 - accuracy: 0.9905\n",
            "Epoch 63/100\n",
            "11/11 [==============================] - 0s 3ms/step - loss: 0.0390 - accuracy: 0.9905\n",
            "Epoch 64/100\n",
            "11/11 [==============================] - 0s 3ms/step - loss: 0.0347 - accuracy: 0.9905\n",
            "Epoch 65/100\n",
            "11/11 [==============================] - 0s 3ms/step - loss: 0.0358 - accuracy: 0.9905\n",
            "Epoch 66/100\n",
            "11/11 [==============================] - 0s 3ms/step - loss: 0.0363 - accuracy: 0.9905\n",
            "Epoch 67/100\n",
            "11/11 [==============================] - 0s 3ms/step - loss: 0.0382 - accuracy: 0.9905\n",
            "Epoch 68/100\n",
            "11/11 [==============================] - 0s 3ms/step - loss: 0.0362 - accuracy: 0.9905\n",
            "Epoch 69/100\n",
            "11/11 [==============================] - 0s 3ms/step - loss: 0.0422 - accuracy: 0.9810\n",
            "Epoch 70/100\n",
            "11/11 [==============================] - 0s 3ms/step - loss: 0.0312 - accuracy: 0.9905\n",
            "Epoch 71/100\n",
            "11/11 [==============================] - 0s 3ms/step - loss: 0.0360 - accuracy: 0.9905\n",
            "Epoch 72/100\n",
            "11/11 [==============================] - 0s 3ms/step - loss: 0.0327 - accuracy: 0.9905\n",
            "Epoch 73/100\n",
            "11/11 [==============================] - 0s 3ms/step - loss: 0.0333 - accuracy: 0.9905\n",
            "Epoch 74/100\n",
            "11/11 [==============================] - 0s 3ms/step - loss: 0.0295 - accuracy: 0.9905\n",
            "Epoch 75/100\n",
            "11/11 [==============================] - 0s 3ms/step - loss: 0.0318 - accuracy: 0.9905\n",
            "Epoch 76/100\n",
            "11/11 [==============================] - 0s 3ms/step - loss: 0.0306 - accuracy: 0.9905\n",
            "Epoch 77/100\n",
            "11/11 [==============================] - 0s 3ms/step - loss: 0.0300 - accuracy: 0.9905\n",
            "Epoch 78/100\n",
            "11/11 [==============================] - 0s 3ms/step - loss: 0.0299 - accuracy: 0.9905\n",
            "Epoch 79/100\n",
            "11/11 [==============================] - 0s 3ms/step - loss: 0.0304 - accuracy: 0.9905\n",
            "Epoch 80/100\n",
            "11/11 [==============================] - 0s 3ms/step - loss: 0.0333 - accuracy: 0.9905\n",
            "Epoch 81/100\n",
            "11/11 [==============================] - 0s 3ms/step - loss: 0.0310 - accuracy: 0.9905\n",
            "Epoch 82/100\n",
            "11/11 [==============================] - 0s 3ms/step - loss: 0.0314 - accuracy: 0.9905\n",
            "Epoch 83/100\n",
            "11/11 [==============================] - 0s 3ms/step - loss: 0.0287 - accuracy: 0.9905\n",
            "Epoch 84/100\n",
            "11/11 [==============================] - 0s 3ms/step - loss: 0.0293 - accuracy: 0.9905\n",
            "Epoch 85/100\n",
            "11/11 [==============================] - 0s 3ms/step - loss: 0.0266 - accuracy: 0.9905\n",
            "Epoch 86/100\n",
            "11/11 [==============================] - 0s 3ms/step - loss: 0.0283 - accuracy: 0.9905\n",
            "Epoch 87/100\n",
            "11/11 [==============================] - 0s 3ms/step - loss: 0.0266 - accuracy: 0.9905\n",
            "Epoch 88/100\n",
            "11/11 [==============================] - 0s 3ms/step - loss: 0.0315 - accuracy: 0.9905\n",
            "Epoch 89/100\n",
            "11/11 [==============================] - 0s 3ms/step - loss: 0.0243 - accuracy: 0.9905\n",
            "Epoch 90/100\n",
            "11/11 [==============================] - 0s 3ms/step - loss: 0.0272 - accuracy: 0.9905\n",
            "Epoch 91/100\n",
            "11/11 [==============================] - 0s 3ms/step - loss: 0.0304 - accuracy: 0.9905\n",
            "Epoch 92/100\n",
            "11/11 [==============================] - 0s 3ms/step - loss: 0.0256 - accuracy: 0.9905\n",
            "Epoch 93/100\n",
            "11/11 [==============================] - 0s 3ms/step - loss: 0.0303 - accuracy: 0.9810\n",
            "Epoch 94/100\n",
            "11/11 [==============================] - 0s 3ms/step - loss: 0.0250 - accuracy: 0.9905\n",
            "Epoch 95/100\n",
            "11/11 [==============================] - 0s 3ms/step - loss: 0.0252 - accuracy: 0.9905\n",
            "Epoch 96/100\n",
            "11/11 [==============================] - 0s 3ms/step - loss: 0.0250 - accuracy: 0.9905\n",
            "Epoch 97/100\n",
            "11/11 [==============================] - 0s 3ms/step - loss: 0.0235 - accuracy: 0.9905\n",
            "Epoch 98/100\n",
            "11/11 [==============================] - 0s 3ms/step - loss: 0.0250 - accuracy: 0.9905\n",
            "Epoch 99/100\n",
            "11/11 [==============================] - 0s 3ms/step - loss: 0.0245 - accuracy: 0.9905\n",
            "Epoch 100/100\n",
            "11/11 [==============================] - 0s 3ms/step - loss: 0.0251 - accuracy: 0.9905\n",
            "2/2 [==============================] - 0s 9ms/step - loss: 0.0710 - accuracy: 0.9556\n",
            "(45, 3) (45, 3)\n",
            "실제y: [0. 1. 0.]=1, 예측y : 1\n",
            "실제y: [0. 0. 1.]=2, 예측y : 1\n",
            "실제y: [1. 0. 0.]=0, 예측y : 0\n",
            "실제y: [1. 0. 0.]=0, 예측y : 0\n",
            "실제y: [1. 0. 0.]=0, 예측y : 0\n",
            "실제y: [1. 0. 0.]=0, 예측y : 0\n",
            "실제y: [0. 0. 1.]=2, 예측y : 2\n",
            "실제y: [0. 1. 0.]=1, 예측y : 1\n",
            "실제y: [0. 0. 1.]=2, 예측y : 2\n",
            "실제y: [1. 0. 0.]=0, 예측y : 0\n",
            "[[19  0  0]\n",
            " [ 0 12  1]\n",
            " [ 0  1 12]]\n"
          ]
        },
        {
          "output_type": "execute_result",
          "data": {
            "text/plain": [
              "<sklearn.metrics._plot.confusion_matrix.ConfusionMatrixDisplay at 0x7fa4da07c550>"
            ]
          },
          "metadata": {},
          "execution_count": 35
        },
        {
          "output_type": "display_data",
          "data": {
            "text/plain": [
              "<Figure size 432x288 with 2 Axes>"
            ],
            "image/png": "[encoded data removed]"
          },
          "metadata": {
            "needs_background": "light"
          }
        }
      ]
    },
    {
      "cell_type": "markdown",
      "source": [
        "### | 과제 3. MNIST 숫자 데이터 분류\n",
        "\n",
        "```\n",
        "mnist = tf.keras.datasets.mnist\n",
        "(x_train, y_train), (x_test, y_test) = mnist.load_data()\n",
        "print(x_train.shape, y_train.shape, x_test.shape, y_test.shape)\n",
        "```"
      ],
      "metadata": {
        "id": "2K0mAdPzjOAf"
      }
    },
    {
      "cell_type": "code",
      "source": [
        "mnist = tf.keras.datasets.mnist\n",
        "(x_train, y_train), (x_test, y_test) = mnist.load_data()\n",
        "print(x_train.shape, y_train.shape, x_test.shape, y_test.shape)\n",
        "# 정규화 (x에대해서만 정규화) 이미지 데이터 : 0~255 -> 0~1\n",
        "x_train = x_train/255.0\n",
        "x_test = x_test/255.0"
      ],
      "metadata": {
        "id": "aMfhH4ojun0G",
        "outputId": "a017a7cf-8767-40c4-a718-5e687f01ba58",
        "colab": {
          "base_uri": "https://localhost:8080/"
        }
      },
      "execution_count": 51,
      "outputs": [
        {
          "output_type": "stream",
          "name": "stdout",
          "text": [
            "(60000, 28, 28) (60000,) (10000, 28, 28) (10000,)\n"
          ]
        }
      ]
    },
    {
      "cell_type": "code",
      "source": [
        ""
      ],
      "metadata": {
        "id": "wbb8LfIwqQiC",
        "outputId": "8fd1af2c-3e17-47f8-ac72-10e67a56e551",
        "colab": {
          "base_uri": "https://localhost:8080/"
        }
      },
      "execution_count": 37,
      "outputs": [
        {
          "output_type": "execute_result",
          "data": {
            "text/plain": [
              "array([5, 0, 4, 1, 9, 2, 1, 3, 1, 4], dtype=uint8)"
            ]
          },
          "metadata": {},
          "execution_count": 37
        }
      ]
    },
    {
      "cell_type": "markdown",
      "source": [
        "* 데이터 시각화"
      ],
      "metadata": {
        "id": "EOskN_eSMJNL"
      }
    },
    {
      "cell_type": "code",
      "source": [
        "for i in range(15):\n",
        "  img = x_train[i]\n",
        "  label = y_train[i]\n",
        "  plt.subplot(3,5,i+1)\n",
        "  plt.imshow(img, cmap = 'gray')\n",
        "  plt.title(label)\n",
        "  plt.xticks([]);plt.yticks([])"
      ],
      "metadata": {
        "id": "oYaA4aLuv7F4",
        "outputId": "ff723f1a-b63a-4451-952c-bec0f9aa57b8",
        "colab": {
          "base_uri": "https://localhost:8080/",
          "height": 262
        }
      },
      "execution_count": 53,
      "outputs": [
        {
          "output_type": "display_data",
          "data": {
            "text/plain": [
              "<Figure size 432x288 with 15 Axes>"
            ],
            "image/png": "[encoded data removed]"
          },
          "metadata": {}
        }
      ]
    },
    {
      "cell_type": "markdown",
      "source": [
        "### | 모델\n",
        "\n",
        "\n",
        "<p align='center'>\n",
        "<img src=https://github.com/yebiny/SkillTreePython-DeepLearning/blob/main/imgs/ch0105-03.PNG?raw=true width=500>\n",
        "</p>\n"
      ],
      "metadata": {
        "id": "po1mICbWv48p"
      }
    },
    {
      "cell_type": "markdown",
      "source": [
        "#### **모델 생성**"
      ],
      "metadata": {
        "id": "C_gpuC1Ev48p"
      }
    },
    {
      "cell_type": "code",
      "source": [
        "from tensorflow.keras import models, layers, utils\n",
        "def build_model():\n",
        "\n",
        "   x = layers.Input(shape = (28,28))\n",
        "   y = layers.Flatten()(x)\n",
        "   y = layers.Dense(30,activation = 'relu')(y)\n",
        "   y = layers.Dense(30,activation = 'relu')(y)\n",
        "   y = layers.Dense(30,activation = 'relu')(y)\n",
        "   y = layers.Dense(30,activation = 'relu')(y)\n",
        "   y = layers.Dense(30,activation = 'relu')(y)\n",
        "   y = layers.Dense(30,activation = 'relu')(y)\n",
        "   y = layers.Dense(30,activation = 'relu')(y)\n",
        "   y = layers.Dense(30,activation = 'relu')(y)\n",
        "   y = layers.Dense(30,activation = 'relu')(y)\n",
        "   y = layers.Dense(30,activation = 'relu')(y)\n",
        "   y = layers.Dense(30,activation = 'relu')(y)\n",
        "   y = layers.Dense(30,activation = 'relu')(y)\n",
        "   y = layers.Dense(30,activation = 'relu')(y)\n",
        "   y = layers.Dense(30,activation = 'relu')(y)\n",
        "   y = layers.Dense(30,activation = 'relu')(y)\n",
        "\n",
        "\n",
        "   #중간층\n",
        "   y = layers.Dense(10, activation = 'softmax')(y) #마지막 레이어에서 softmax 사용\n",
        "   model = models.Model(x, y)\n",
        "   return model"
      ],
      "metadata": {
        "id": "bDFZF-9Jv48q"
      },
      "execution_count": 98,
      "outputs": []
    },
    {
      "cell_type": "markdown",
      "source": [
        "#### **모델 시각화**\n",
        "\n",
        "* `model.summary()`\n",
        "* `utils.plot_model()`"
      ],
      "metadata": {
        "id": "nopDIQEiv48q"
      }
    },
    {
      "cell_type": "code",
      "source": [
        "model = build_model()\n",
        "model.summary()"
      ],
      "metadata": {
        "id": "rXzVjMLpv48q",
        "outputId": "a47ace3e-3dbb-41a0-9957-d72ec3d00d1e",
        "colab": {
          "base_uri": "https://localhost:8080/"
        }
      },
      "execution_count": 99,
      "outputs": [
        {
          "output_type": "stream",
          "name": "stdout",
          "text": [
            "Model: \"model_9\"\n",
            "_________________________________________________________________\n",
            " Layer (type)                Output Shape              Param #   \n",
            "=================================================================\n",
            " input_10 (InputLayer)       [(None, 28, 28)]          0         \n",
            "                                                                 \n",
            " flatten_17 (Flatten)        (None, 784)               0         \n",
            "                                                                 \n",
            " dense_36 (Dense)            (None, 30)                23550     \n",
            "                                                                 \n",
            " dense_37 (Dense)            (None, 30)                930       \n",
            "                                                                 \n",
            " dense_38 (Dense)            (None, 30)                930       \n",
            "                                                                 \n",
            " dense_39 (Dense)            (None, 30)                930       \n",
            "                                                                 \n",
            " dense_40 (Dense)            (None, 30)                930       \n",
            "                                                                 \n",
            " dense_41 (Dense)            (None, 30)                930       \n",
            "                                                                 \n",
            " dense_42 (Dense)            (None, 30)                930       \n",
            "                                                                 \n",
            " dense_43 (Dense)            (None, 30)                930       \n",
            "                                                                 \n",
            " dense_44 (Dense)            (None, 30)                930       \n",
            "                                                                 \n",
            " dense_45 (Dense)            (None, 30)                930       \n",
            "                                                                 \n",
            " dense_46 (Dense)            (None, 30)                930       \n",
            "                                                                 \n",
            " dense_47 (Dense)            (None, 30)                930       \n",
            "                                                                 \n",
            " dense_48 (Dense)            (None, 30)                930       \n",
            "                                                                 \n",
            " dense_49 (Dense)            (None, 30)                930       \n",
            "                                                                 \n",
            " dense_50 (Dense)            (None, 30)                930       \n",
            "                                                                 \n",
            " dense_51 (Dense)            (None, 10)                310       \n",
            "                                                                 \n",
            "=================================================================\n",
            "Total params: 36,880\n",
            "Trainable params: 36,880\n",
            "Non-trainable params: 0\n",
            "_________________________________________________________________\n"
          ]
        }
      ]
    },
    {
      "cell_type": "markdown",
      "source": [
        "### | 학습"
      ],
      "metadata": {
        "id": "mwtIo0te0dvn"
      }
    },
    {
      "cell_type": "markdown",
      "source": [
        "#### **모델 컴파일**\n",
        "\n",
        "```\n",
        "model.compile(loss, optimizer, metrics) \n",
        "```\n",
        "* `loss` : sparse_categorical_crossentropy  -> 원핫 인코딩을 안했을 때 사용\n",
        "* `optimizer` : \n",
        "* `metrics`: \n"
      ],
      "metadata": {
        "id": "BEN3BQFF0dvt"
      }
    },
    {
      "cell_type": "code",
      "source": [
        "model.compile(loss = 'sparse_categorical_crossentropy',\n",
        "              optimizer ='adam',\n",
        "              metrics = 'accuracy')"
      ],
      "metadata": {
        "id": "RhuM6-_f0dvt"
      },
      "execution_count": 100,
      "outputs": []
    },
    {
      "cell_type": "markdown",
      "source": [
        "#### **학습**\n",
        "\n",
        "```\n",
        "model.fit(x_train, y_train, epochs, batch_size)\n",
        "```\n",
        "* `x_train` : 넘파이 혹은 텐서 형식의 인풋 데이터\n",
        "* `y_train` : 넘파이 혹은 텐서 형식의 아웃풋 데이터\n",
        "* `epochs` : 학습 횟수\n",
        "* `batch_size` : 배치 사이즈 ((업데이트 한번에 사용될 샘플 개수)"
      ],
      "metadata": {
        "id": "weF5ryop0dvt"
      }
    },
    {
      "cell_type": "code",
      "source": [
        "model.fit(x_train, y_train, epochs = 10, batch_size = 16)"
      ],
      "metadata": {
        "id": "URyV2ICw0dvt",
        "outputId": "31f4fab1-00dd-4f37-a614-0239890c22cc",
        "colab": {
          "base_uri": "https://localhost:8080/"
        }
      },
      "execution_count": 101,
      "outputs": [
        {
          "output_type": "stream",
          "name": "stdout",
          "text": [
            "Epoch 1/10\n",
            "3750/3750 [==============================] - 13s 3ms/step - loss: 0.6115 - accuracy: 0.7831\n",
            "Epoch 2/10\n",
            "3750/3750 [==============================] - 12s 3ms/step - loss: 0.2733 - accuracy: 0.9265\n",
            "Epoch 3/10\n",
            "3750/3750 [==============================] - 12s 3ms/step - loss: 0.2147 - accuracy: 0.9434\n",
            "Epoch 4/10\n",
            "3750/3750 [==============================] - 12s 3ms/step - loss: 0.1846 - accuracy: 0.9513\n",
            "Epoch 5/10\n",
            "3750/3750 [==============================] - 12s 3ms/step - loss: 0.1648 - accuracy: 0.9568\n",
            "Epoch 6/10\n",
            "3750/3750 [==============================] - 12s 3ms/step - loss: 0.1528 - accuracy: 0.9597\n",
            "Epoch 7/10\n",
            "3750/3750 [==============================] - 12s 3ms/step - loss: 0.1399 - accuracy: 0.9633\n",
            "Epoch 8/10\n",
            "3750/3750 [==============================] - 14s 4ms/step - loss: 0.1337 - accuracy: 0.9649\n",
            "Epoch 9/10\n",
            "3750/3750 [==============================] - 14s 4ms/step - loss: 0.1271 - accuracy: 0.9672\n",
            "Epoch 10/10\n",
            "3750/3750 [==============================] - 12s 3ms/step - loss: 0.1165 - accuracy: 0.9700\n"
          ]
        },
        {
          "output_type": "execute_result",
          "data": {
            "text/plain": [
              "<keras.callbacks.History at 0x7fa4cbb48790>"
            ]
          },
          "metadata": {},
          "execution_count": 101
        }
      ]
    },
    {
      "cell_type": "markdown",
      "source": [
        "### | 검증 및 예측\n"
      ],
      "metadata": {
        "id": "4UIAL_HA0dvt"
      }
    },
    {
      "cell_type": "markdown",
      "source": [
        "#### **검증**\n",
        "\n",
        "```\n",
        "model.evaluate(x_test, y_test)\n",
        "```\n",
        "* `x_test` : 넘파이 혹은 텐서 형식의 인풋 테스트 데이터\n",
        "* `y_test` : 넘파이 혹은 텐서 형식의 아웃풋 테스트 데이터"
      ],
      "metadata": {
        "id": "JNcvTwyU0dvt"
      }
    },
    {
      "cell_type": "code",
      "source": [
        "model.evaluate(x_test, y_test)"
      ],
      "metadata": {
        "id": "blrfzkKN0dvu",
        "outputId": "6e149137-05d0-48b7-f0b3-6120da70dd77",
        "colab": {
          "base_uri": "https://localhost:8080/"
        }
      },
      "execution_count": 102,
      "outputs": [
        {
          "output_type": "stream",
          "name": "stdout",
          "text": [
            "313/313 [==============================] - 1s 2ms/step - loss: 0.1605 - accuracy: 0.9619\n"
          ]
        },
        {
          "output_type": "execute_result",
          "data": {
            "text/plain": [
              "[0.16054844856262207, 0.961899995803833]"
            ]
          },
          "metadata": {},
          "execution_count": 102
        }
      ]
    },
    {
      "cell_type": "markdown",
      "source": [
        "#### **예측**\n",
        "\n",
        "```\n",
        "model.predict(x_test)\n",
        "```\n",
        "* `x_test` : 넘파이 혹은 텐서 형식의 인풋 테스트 데이터\n",
        "* `y_test` : 넘파이 혹은 텐서 형식의 아웃풋 테스트 데이터"
      ],
      "metadata": {
        "id": "4IHDLt-D0dvu"
      }
    },
    {
      "cell_type": "code",
      "source": [
        "y_pred = model.predict(x_test)\n",
        "print(y_test.shape, y_pred.shape)\n",
        "\n",
        "y_pred_argmax = np.argmax(y_pred, axis=1)\n",
        "\n",
        "for i in range(10):\n",
        "  print(f'실제y: {y_test[i]}, 예측y : {y_pred_argmax[i]}')"
      ],
      "metadata": {
        "id": "P2lPLl970dvu",
        "outputId": "2100aa9d-3323-48ce-ebf1-62596d8e5c82",
        "colab": {
          "base_uri": "https://localhost:8080/"
        }
      },
      "execution_count": 104,
      "outputs": [
        {
          "output_type": "stream",
          "name": "stdout",
          "text": [
            "(10000,) (10000, 10)\n",
            "실제y: 7, 예측y : 7\n",
            "실제y: 2, 예측y : 2\n",
            "실제y: 1, 예측y : 1\n",
            "실제y: 0, 예측y : 0\n",
            "실제y: 4, 예측y : 4\n",
            "실제y: 1, 예측y : 1\n",
            "실제y: 4, 예측y : 4\n",
            "실제y: 9, 예측y : 9\n",
            "실제y: 5, 예측y : 5\n",
            "실제y: 9, 예측y : 9\n"
          ]
        }
      ]
    },
    {
      "cell_type": "markdown",
      "source": [
        "* 예측 시각화"
      ],
      "metadata": {
        "id": "xyDfuLj-0dvu"
      }
    },
    {
      "cell_type": "code",
      "source": [
        "from sklearn.metrics import confusion_matrix, ConfusionMatrixDisplay\n",
        "\n",
        "cm = confusion_matrix(y_test,y_pred_argmax)\n",
        "#print(cm)\n",
        "ConfusionMatrixDisplay(cm).plot(cmap= 'Blues')"
      ],
      "metadata": {
        "id": "GrBlEHxm0dvu",
        "outputId": "ca8168bd-ad77-4963-d2a6-14668b077c59",
        "colab": {
          "base_uri": "https://localhost:8080/",
          "height": 296
        }
      },
      "execution_count": 107,
      "outputs": [
        {
          "output_type": "execute_result",
          "data": {
            "text/plain": [
              "<sklearn.metrics._plot.confusion_matrix.ConfusionMatrixDisplay at 0x7fa4cb6c3250>"
            ]
          },
          "metadata": {},
          "execution_count": 107
        },
        {
          "output_type": "display_data",
          "data": {
            "text/plain": [
              "<Figure size 432x288 with 2 Axes>"
            ],
            "image/png": "[encoded data removed]"
          },
          "metadata": {
            "needs_background": "light"
          }
        }
      ]
    },
    {
      "cell_type": "markdown",
      "source": [
        "* 모델 활용"
      ],
      "metadata": {
        "id": "4-APLR7G2Dep"
      }
    },
    {
      "cell_type": "code",
      "source": [
        "idx = 7 #n번째 샘플\n",
        "img = x_test[idx]\n",
        "label = y_test[idx]\n",
        "pred = y_pred[idx]\n",
        "pred_argmax = y_pred_argmax[idx]\n",
        "print(label, pred)\n",
        "plt.subplot(121);plt.imshow(img, cmap='gray');plt.title(f'True:{label}')\n",
        "plt.subplot(122);plt.bar(range(10),pred);plt.xticks(range(10))\n",
        "plt.show()"
      ],
      "metadata": {
        "id": "3e_9LSrE0wbl",
        "outputId": "1a3c4d81-fa04-4c0f-bfc9-dc18c9ed2e74",
        "colab": {
          "base_uri": "https://localhost:8080/",
          "height": 300
        }
      },
      "execution_count": 123,
      "outputs": [
        {
          "output_type": "stream",
          "name": "stdout",
          "text": [
            "9 [9.0453069e-04 9.3171315e-04 9.6995541e-04 1.2928101e-02 1.8657977e-02\n",
            " 8.7335985e-03 3.4381046e-05 4.3441211e-03 1.9981889e-02 9.3251371e-01]\n"
          ]
        },
        {
          "output_type": "display_data",
          "data": {
            "text/plain": [
              "<Figure size 432x288 with 2 Axes>"
            ],
            "image/png": "[encoded data removed]"
          },
          "metadata": {
            "needs_background": "light"
          }
        }
      ]
    },
    {
      "cell_type": "code",
      "source": [
        ""
      ],
      "metadata": {
        "id": "sCp8tPhh2G14"
      },
      "execution_count": null,
      "outputs": []
    }
  ]
}